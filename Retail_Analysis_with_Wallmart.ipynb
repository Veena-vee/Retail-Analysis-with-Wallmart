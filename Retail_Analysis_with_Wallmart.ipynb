{
  "cells": [
    {
      "cell_type": "markdown",
      "metadata": {
        "id": "RajOfhOo_ujW"
      },
      "source": [
        "### Description\n",
        "One of the leading retail stores in the US, Walmart, would like to predict the sales and demand accurately. There are certain events and holidays which impact sales on each day. There are sales data available for 45 stores of Walmart. The business is facing a challenge due to unforeseen demands and runs out of stock some times, due to the inappropriate machine learning algorithm. An ideal ML algorithm will predict demand accurately and ingest factors like economic conditions including CPI, Unemployment Index, etc.\n",
        "\n",
        "Walmart runs several promotional markdown events throughout the year. These markdowns precede prominent holidays, the four largest of all, which are the Super Bowl, Labour Day, Thanksgiving, and Christmas. The weeks including these holidays are weighted five times higher in the evaluation than non-holiday weeks. Part of the challenge presented by this competition is modeling the effects of markdowns on these holiday weeks in the absence of complete/ideal historical data. Historical sales data for 45 Walmart stores located in different regions are available.\n",
        "\n",
        "This is the historical data that covers sales from 2010-02-05 to 2012-11-01, in the file Walmart_Store_sales. Within this file you will find the following fields:\n",
        "\n",
        "Store - the store number\n",
        "\n",
        "Date - the week of sales\n",
        "\n",
        "Weekly_Sales - sales for the given store\n",
        "\n",
        "Holiday_Flag - whether the week is a special holiday week 1 – Holiday week 0 – Non-holiday week\n",
        "\n",
        "Temperature - Temperature on the day of sale\n",
        "\n",
        "Fuel_Price - Cost of fuel in the region\n",
        "\n",
        "CPI – Prevailing consumer price index\n",
        "\n",
        "Unemployment - Prevailing unemployment rate"
      ]
    },
    {
      "cell_type": "markdown",
      "metadata": {
        "id": "xLsUsfhC_ujZ"
      },
      "source": [
        "### Analysis Tasks\n",
        "Which store has maximum sales?\n",
        "\n",
        "Which store has maximum standard deviation i.e., the sales vary a lot. Also, find out the coefficient of variation.\n",
        "\n",
        "Which store has good quarterly growth rate in Q3’2012?\n",
        "\n",
        "Some holidays have a negative impact on sales. Find out holidays which have higher sales than the mean sales in non-holiday season for all stores together?\n",
        "\n",
        "Provide a monthly and semester view of sales in units and give insights?\n",
        "\n",
        "### Model\n",
        "    \n",
        "Build prediction models to forecast demand\n"
      ]
    },
    {
      "cell_type": "code",
      "execution_count": 29,
      "metadata": {
        "id": "1U4FZhWP_ujZ"
      },
      "outputs": [],
      "source": [
        "import numpy as np\n",
        "import pandas as pd\n",
        "import matplotlib.pyplot as plt\n",
        "import seaborn as sb\n",
        "from sklearn.linear_model import LinearRegression\n",
        "from sklearn import metrics\n",
        "from sklearn.metrics import r2_score\n",
        "from sklearn.model_selection import train_test_split"
      ]
    },
    {
      "cell_type": "code",
      "execution_count": 30,
      "metadata": {
        "id": "4KvuezcC_ujb"
      },
      "outputs": [],
      "source": [
        "data=pd.read_excel(\"Walmart_Store_sales.xlsx\")"
      ]
    },
    {
      "cell_type": "code",
      "execution_count": 31,
      "metadata": {
        "colab": {
          "base_uri": "https://localhost:8080/",
          "height": 206
        },
        "id": "cZb52RfO_ujb",
        "outputId": "78f1873c-e7b5-4001-904e-7ba6064ea5db"
      },
      "outputs": [
        {
          "output_type": "execute_result",
          "data": {
            "text/plain": [
              "   Store                 Date  Weekly_Sales  Holiday_Flag  Temperature  \\\n",
              "0      1  2010-05-02 00:00:00    1643690.90             0        42.31   \n",
              "1      1  2010-12-02 00:00:00    1641957.44             1        38.51   \n",
              "2      1           19-02-2010    1611968.17             0        39.93   \n",
              "3      1           26-02-2010    1409727.59             0        46.63   \n",
              "4      1  2010-05-03 00:00:00    1554806.68             0        46.50   \n",
              "\n",
              "   Fuel_Price         CPI  Unemployment  \n",
              "0       2.572  211.096358         8.106  \n",
              "1       2.548  211.242170         8.106  \n",
              "2       2.514  211.289143         8.106  \n",
              "3       2.561  211.319643         8.106  \n",
              "4       2.625  211.350143         8.106  "
            ],
            "text/html": [
              "\n",
              "  <div id=\"df-a75bb0fb-f43a-45b3-85fc-462df5c6ea3e\">\n",
              "    <div class=\"colab-df-container\">\n",
              "      <div>\n",
              "<style scoped>\n",
              "    .dataframe tbody tr th:only-of-type {\n",
              "        vertical-align: middle;\n",
              "    }\n",
              "\n",
              "    .dataframe tbody tr th {\n",
              "        vertical-align: top;\n",
              "    }\n",
              "\n",
              "    .dataframe thead th {\n",
              "        text-align: right;\n",
              "    }\n",
              "</style>\n",
              "<table border=\"1\" class=\"dataframe\">\n",
              "  <thead>\n",
              "    <tr style=\"text-align: right;\">\n",
              "      <th></th>\n",
              "      <th>Store</th>\n",
              "      <th>Date</th>\n",
              "      <th>Weekly_Sales</th>\n",
              "      <th>Holiday_Flag</th>\n",
              "      <th>Temperature</th>\n",
              "      <th>Fuel_Price</th>\n",
              "      <th>CPI</th>\n",
              "      <th>Unemployment</th>\n",
              "    </tr>\n",
              "  </thead>\n",
              "  <tbody>\n",
              "    <tr>\n",
              "      <th>0</th>\n",
              "      <td>1</td>\n",
              "      <td>2010-05-02 00:00:00</td>\n",
              "      <td>1643690.90</td>\n",
              "      <td>0</td>\n",
              "      <td>42.31</td>\n",
              "      <td>2.572</td>\n",
              "      <td>211.096358</td>\n",
              "      <td>8.106</td>\n",
              "    </tr>\n",
              "    <tr>\n",
              "      <th>1</th>\n",
              "      <td>1</td>\n",
              "      <td>2010-12-02 00:00:00</td>\n",
              "      <td>1641957.44</td>\n",
              "      <td>1</td>\n",
              "      <td>38.51</td>\n",
              "      <td>2.548</td>\n",
              "      <td>211.242170</td>\n",
              "      <td>8.106</td>\n",
              "    </tr>\n",
              "    <tr>\n",
              "      <th>2</th>\n",
              "      <td>1</td>\n",
              "      <td>19-02-2010</td>\n",
              "      <td>1611968.17</td>\n",
              "      <td>0</td>\n",
              "      <td>39.93</td>\n",
              "      <td>2.514</td>\n",
              "      <td>211.289143</td>\n",
              "      <td>8.106</td>\n",
              "    </tr>\n",
              "    <tr>\n",
              "      <th>3</th>\n",
              "      <td>1</td>\n",
              "      <td>26-02-2010</td>\n",
              "      <td>1409727.59</td>\n",
              "      <td>0</td>\n",
              "      <td>46.63</td>\n",
              "      <td>2.561</td>\n",
              "      <td>211.319643</td>\n",
              "      <td>8.106</td>\n",
              "    </tr>\n",
              "    <tr>\n",
              "      <th>4</th>\n",
              "      <td>1</td>\n",
              "      <td>2010-05-03 00:00:00</td>\n",
              "      <td>1554806.68</td>\n",
              "      <td>0</td>\n",
              "      <td>46.50</td>\n",
              "      <td>2.625</td>\n",
              "      <td>211.350143</td>\n",
              "      <td>8.106</td>\n",
              "    </tr>\n",
              "  </tbody>\n",
              "</table>\n",
              "</div>\n",
              "      <button class=\"colab-df-convert\" onclick=\"convertToInteractive('df-a75bb0fb-f43a-45b3-85fc-462df5c6ea3e')\"\n",
              "              title=\"Convert this dataframe to an interactive table.\"\n",
              "              style=\"display:none;\">\n",
              "        \n",
              "  <svg xmlns=\"http://www.w3.org/2000/svg\" height=\"24px\"viewBox=\"0 0 24 24\"\n",
              "       width=\"24px\">\n",
              "    <path d=\"M0 0h24v24H0V0z\" fill=\"none\"/>\n",
              "    <path d=\"M18.56 5.44l.94 2.06.94-2.06 2.06-.94-2.06-.94-.94-2.06-.94 2.06-2.06.94zm-11 1L8.5 8.5l.94-2.06 2.06-.94-2.06-.94L8.5 2.5l-.94 2.06-2.06.94zm10 10l.94 2.06.94-2.06 2.06-.94-2.06-.94-.94-2.06-.94 2.06-2.06.94z\"/><path d=\"M17.41 7.96l-1.37-1.37c-.4-.4-.92-.59-1.43-.59-.52 0-1.04.2-1.43.59L10.3 9.45l-7.72 7.72c-.78.78-.78 2.05 0 2.83L4 21.41c.39.39.9.59 1.41.59.51 0 1.02-.2 1.41-.59l7.78-7.78 2.81-2.81c.8-.78.8-2.07 0-2.86zM5.41 20L4 18.59l7.72-7.72 1.47 1.35L5.41 20z\"/>\n",
              "  </svg>\n",
              "      </button>\n",
              "      \n",
              "  <style>\n",
              "    .colab-df-container {\n",
              "      display:flex;\n",
              "      flex-wrap:wrap;\n",
              "      gap: 12px;\n",
              "    }\n",
              "\n",
              "    .colab-df-convert {\n",
              "      background-color: #E8F0FE;\n",
              "      border: none;\n",
              "      border-radius: 50%;\n",
              "      cursor: pointer;\n",
              "      display: none;\n",
              "      fill: #1967D2;\n",
              "      height: 32px;\n",
              "      padding: 0 0 0 0;\n",
              "      width: 32px;\n",
              "    }\n",
              "\n",
              "    .colab-df-convert:hover {\n",
              "      background-color: #E2EBFA;\n",
              "      box-shadow: 0px 1px 2px rgba(60, 64, 67, 0.3), 0px 1px 3px 1px rgba(60, 64, 67, 0.15);\n",
              "      fill: #174EA6;\n",
              "    }\n",
              "\n",
              "    [theme=dark] .colab-df-convert {\n",
              "      background-color: #3B4455;\n",
              "      fill: #D2E3FC;\n",
              "    }\n",
              "\n",
              "    [theme=dark] .colab-df-convert:hover {\n",
              "      background-color: #434B5C;\n",
              "      box-shadow: 0px 1px 3px 1px rgba(0, 0, 0, 0.15);\n",
              "      filter: drop-shadow(0px 1px 2px rgba(0, 0, 0, 0.3));\n",
              "      fill: #FFFFFF;\n",
              "    }\n",
              "  </style>\n",
              "\n",
              "      <script>\n",
              "        const buttonEl =\n",
              "          document.querySelector('#df-a75bb0fb-f43a-45b3-85fc-462df5c6ea3e button.colab-df-convert');\n",
              "        buttonEl.style.display =\n",
              "          google.colab.kernel.accessAllowed ? 'block' : 'none';\n",
              "\n",
              "        async function convertToInteractive(key) {\n",
              "          const element = document.querySelector('#df-a75bb0fb-f43a-45b3-85fc-462df5c6ea3e');\n",
              "          const dataTable =\n",
              "            await google.colab.kernel.invokeFunction('convertToInteractive',\n",
              "                                                     [key], {});\n",
              "          if (!dataTable) return;\n",
              "\n",
              "          const docLinkHtml = 'Like what you see? Visit the ' +\n",
              "            '<a target=\"_blank\" href=https://colab.research.google.com/notebooks/data_table.ipynb>data table notebook</a>'\n",
              "            + ' to learn more about interactive tables.';\n",
              "          element.innerHTML = '';\n",
              "          dataTable['output_type'] = 'display_data';\n",
              "          await google.colab.output.renderOutput(dataTable, element);\n",
              "          const docLink = document.createElement('div');\n",
              "          docLink.innerHTML = docLinkHtml;\n",
              "          element.appendChild(docLink);\n",
              "        }\n",
              "      </script>\n",
              "    </div>\n",
              "  </div>\n",
              "  "
            ]
          },
          "metadata": {},
          "execution_count": 31
        }
      ],
      "source": [
        "data.head()"
      ]
    },
    {
      "cell_type": "code",
      "execution_count": 32,
      "metadata": {
        "colab": {
          "base_uri": "https://localhost:8080/",
          "height": 300
        },
        "id": "L-gvJzWV_ujb",
        "outputId": "f85e86dc-0cb5-4986-a9b1-d52f868a4b34"
      },
      "outputs": [
        {
          "output_type": "execute_result",
          "data": {
            "text/plain": [
              "             Store  Weekly_Sales  Holiday_Flag  Temperature   Fuel_Price  \\\n",
              "count  6435.000000  6.435000e+03   6435.000000  6435.000000  6435.000000   \n",
              "mean     23.000000  1.046965e+06      0.069930    60.663782     3.358607   \n",
              "std      12.988182  5.643666e+05      0.255049    18.444933     0.459020   \n",
              "min       1.000000  2.099862e+05      0.000000    -2.060000     2.472000   \n",
              "25%      12.000000  5.533501e+05      0.000000    47.460000     2.933000   \n",
              "50%      23.000000  9.607460e+05      0.000000    62.670000     3.445000   \n",
              "75%      34.000000  1.420159e+06      0.000000    74.940000     3.735000   \n",
              "max      45.000000  3.818686e+06      1.000000   100.140000     4.468000   \n",
              "\n",
              "               CPI  Unemployment  \n",
              "count  6435.000000   6435.000000  \n",
              "mean    171.578394      7.999151  \n",
              "std      39.356712      1.875885  \n",
              "min     126.064000      3.879000  \n",
              "25%     131.735000      6.891000  \n",
              "50%     182.616521      7.874000  \n",
              "75%     212.743293      8.622000  \n",
              "max     227.232807     14.313000  "
            ],
            "text/html": [
              "\n",
              "  <div id=\"df-5afecb76-4593-4866-bda0-6c5259471596\">\n",
              "    <div class=\"colab-df-container\">\n",
              "      <div>\n",
              "<style scoped>\n",
              "    .dataframe tbody tr th:only-of-type {\n",
              "        vertical-align: middle;\n",
              "    }\n",
              "\n",
              "    .dataframe tbody tr th {\n",
              "        vertical-align: top;\n",
              "    }\n",
              "\n",
              "    .dataframe thead th {\n",
              "        text-align: right;\n",
              "    }\n",
              "</style>\n",
              "<table border=\"1\" class=\"dataframe\">\n",
              "  <thead>\n",
              "    <tr style=\"text-align: right;\">\n",
              "      <th></th>\n",
              "      <th>Store</th>\n",
              "      <th>Weekly_Sales</th>\n",
              "      <th>Holiday_Flag</th>\n",
              "      <th>Temperature</th>\n",
              "      <th>Fuel_Price</th>\n",
              "      <th>CPI</th>\n",
              "      <th>Unemployment</th>\n",
              "    </tr>\n",
              "  </thead>\n",
              "  <tbody>\n",
              "    <tr>\n",
              "      <th>count</th>\n",
              "      <td>6435.000000</td>\n",
              "      <td>6.435000e+03</td>\n",
              "      <td>6435.000000</td>\n",
              "      <td>6435.000000</td>\n",
              "      <td>6435.000000</td>\n",
              "      <td>6435.000000</td>\n",
              "      <td>6435.000000</td>\n",
              "    </tr>\n",
              "    <tr>\n",
              "      <th>mean</th>\n",
              "      <td>23.000000</td>\n",
              "      <td>1.046965e+06</td>\n",
              "      <td>0.069930</td>\n",
              "      <td>60.663782</td>\n",
              "      <td>3.358607</td>\n",
              "      <td>171.578394</td>\n",
              "      <td>7.999151</td>\n",
              "    </tr>\n",
              "    <tr>\n",
              "      <th>std</th>\n",
              "      <td>12.988182</td>\n",
              "      <td>5.643666e+05</td>\n",
              "      <td>0.255049</td>\n",
              "      <td>18.444933</td>\n",
              "      <td>0.459020</td>\n",
              "      <td>39.356712</td>\n",
              "      <td>1.875885</td>\n",
              "    </tr>\n",
              "    <tr>\n",
              "      <th>min</th>\n",
              "      <td>1.000000</td>\n",
              "      <td>2.099862e+05</td>\n",
              "      <td>0.000000</td>\n",
              "      <td>-2.060000</td>\n",
              "      <td>2.472000</td>\n",
              "      <td>126.064000</td>\n",
              "      <td>3.879000</td>\n",
              "    </tr>\n",
              "    <tr>\n",
              "      <th>25%</th>\n",
              "      <td>12.000000</td>\n",
              "      <td>5.533501e+05</td>\n",
              "      <td>0.000000</td>\n",
              "      <td>47.460000</td>\n",
              "      <td>2.933000</td>\n",
              "      <td>131.735000</td>\n",
              "      <td>6.891000</td>\n",
              "    </tr>\n",
              "    <tr>\n",
              "      <th>50%</th>\n",
              "      <td>23.000000</td>\n",
              "      <td>9.607460e+05</td>\n",
              "      <td>0.000000</td>\n",
              "      <td>62.670000</td>\n",
              "      <td>3.445000</td>\n",
              "      <td>182.616521</td>\n",
              "      <td>7.874000</td>\n",
              "    </tr>\n",
              "    <tr>\n",
              "      <th>75%</th>\n",
              "      <td>34.000000</td>\n",
              "      <td>1.420159e+06</td>\n",
              "      <td>0.000000</td>\n",
              "      <td>74.940000</td>\n",
              "      <td>3.735000</td>\n",
              "      <td>212.743293</td>\n",
              "      <td>8.622000</td>\n",
              "    </tr>\n",
              "    <tr>\n",
              "      <th>max</th>\n",
              "      <td>45.000000</td>\n",
              "      <td>3.818686e+06</td>\n",
              "      <td>1.000000</td>\n",
              "      <td>100.140000</td>\n",
              "      <td>4.468000</td>\n",
              "      <td>227.232807</td>\n",
              "      <td>14.313000</td>\n",
              "    </tr>\n",
              "  </tbody>\n",
              "</table>\n",
              "</div>\n",
              "      <button class=\"colab-df-convert\" onclick=\"convertToInteractive('df-5afecb76-4593-4866-bda0-6c5259471596')\"\n",
              "              title=\"Convert this dataframe to an interactive table.\"\n",
              "              style=\"display:none;\">\n",
              "        \n",
              "  <svg xmlns=\"http://www.w3.org/2000/svg\" height=\"24px\"viewBox=\"0 0 24 24\"\n",
              "       width=\"24px\">\n",
              "    <path d=\"M0 0h24v24H0V0z\" fill=\"none\"/>\n",
              "    <path d=\"M18.56 5.44l.94 2.06.94-2.06 2.06-.94-2.06-.94-.94-2.06-.94 2.06-2.06.94zm-11 1L8.5 8.5l.94-2.06 2.06-.94-2.06-.94L8.5 2.5l-.94 2.06-2.06.94zm10 10l.94 2.06.94-2.06 2.06-.94-2.06-.94-.94-2.06-.94 2.06-2.06.94z\"/><path d=\"M17.41 7.96l-1.37-1.37c-.4-.4-.92-.59-1.43-.59-.52 0-1.04.2-1.43.59L10.3 9.45l-7.72 7.72c-.78.78-.78 2.05 0 2.83L4 21.41c.39.39.9.59 1.41.59.51 0 1.02-.2 1.41-.59l7.78-7.78 2.81-2.81c.8-.78.8-2.07 0-2.86zM5.41 20L4 18.59l7.72-7.72 1.47 1.35L5.41 20z\"/>\n",
              "  </svg>\n",
              "      </button>\n",
              "      \n",
              "  <style>\n",
              "    .colab-df-container {\n",
              "      display:flex;\n",
              "      flex-wrap:wrap;\n",
              "      gap: 12px;\n",
              "    }\n",
              "\n",
              "    .colab-df-convert {\n",
              "      background-color: #E8F0FE;\n",
              "      border: none;\n",
              "      border-radius: 50%;\n",
              "      cursor: pointer;\n",
              "      display: none;\n",
              "      fill: #1967D2;\n",
              "      height: 32px;\n",
              "      padding: 0 0 0 0;\n",
              "      width: 32px;\n",
              "    }\n",
              "\n",
              "    .colab-df-convert:hover {\n",
              "      background-color: #E2EBFA;\n",
              "      box-shadow: 0px 1px 2px rgba(60, 64, 67, 0.3), 0px 1px 3px 1px rgba(60, 64, 67, 0.15);\n",
              "      fill: #174EA6;\n",
              "    }\n",
              "\n",
              "    [theme=dark] .colab-df-convert {\n",
              "      background-color: #3B4455;\n",
              "      fill: #D2E3FC;\n",
              "    }\n",
              "\n",
              "    [theme=dark] .colab-df-convert:hover {\n",
              "      background-color: #434B5C;\n",
              "      box-shadow: 0px 1px 3px 1px rgba(0, 0, 0, 0.15);\n",
              "      filter: drop-shadow(0px 1px 2px rgba(0, 0, 0, 0.3));\n",
              "      fill: #FFFFFF;\n",
              "    }\n",
              "  </style>\n",
              "\n",
              "      <script>\n",
              "        const buttonEl =\n",
              "          document.querySelector('#df-5afecb76-4593-4866-bda0-6c5259471596 button.colab-df-convert');\n",
              "        buttonEl.style.display =\n",
              "          google.colab.kernel.accessAllowed ? 'block' : 'none';\n",
              "\n",
              "        async function convertToInteractive(key) {\n",
              "          const element = document.querySelector('#df-5afecb76-4593-4866-bda0-6c5259471596');\n",
              "          const dataTable =\n",
              "            await google.colab.kernel.invokeFunction('convertToInteractive',\n",
              "                                                     [key], {});\n",
              "          if (!dataTable) return;\n",
              "\n",
              "          const docLinkHtml = 'Like what you see? Visit the ' +\n",
              "            '<a target=\"_blank\" href=https://colab.research.google.com/notebooks/data_table.ipynb>data table notebook</a>'\n",
              "            + ' to learn more about interactive tables.';\n",
              "          element.innerHTML = '';\n",
              "          dataTable['output_type'] = 'display_data';\n",
              "          await google.colab.output.renderOutput(dataTable, element);\n",
              "          const docLink = document.createElement('div');\n",
              "          docLink.innerHTML = docLinkHtml;\n",
              "          element.appendChild(docLink);\n",
              "        }\n",
              "      </script>\n",
              "    </div>\n",
              "  </div>\n",
              "  "
            ]
          },
          "metadata": {},
          "execution_count": 32
        }
      ],
      "source": [
        "data.describe()"
      ]
    },
    {
      "cell_type": "code",
      "execution_count": 33,
      "metadata": {
        "colab": {
          "base_uri": "https://localhost:8080/"
        },
        "id": "E1WSuFBK_ujb",
        "outputId": "3f12a80b-54af-4dee-b2ed-92ebd83b2a32"
      },
      "outputs": [
        {
          "output_type": "stream",
          "name": "stdout",
          "text": [
            "<class 'pandas.core.frame.DataFrame'>\n",
            "RangeIndex: 6435 entries, 0 to 6434\n",
            "Data columns (total 8 columns):\n",
            " #   Column        Non-Null Count  Dtype  \n",
            "---  ------        --------------  -----  \n",
            " 0   Store         6435 non-null   int64  \n",
            " 1   Date          6435 non-null   object \n",
            " 2   Weekly_Sales  6435 non-null   float64\n",
            " 3   Holiday_Flag  6435 non-null   int64  \n",
            " 4   Temperature   6435 non-null   float64\n",
            " 5   Fuel_Price    6435 non-null   float64\n",
            " 6   CPI           6435 non-null   float64\n",
            " 7   Unemployment  6435 non-null   float64\n",
            "dtypes: float64(5), int64(2), object(1)\n",
            "memory usage: 402.3+ KB\n",
            "None\n",
            "Store           0\n",
            "Date            0\n",
            "Weekly_Sales    0\n",
            "Holiday_Flag    0\n",
            "Temperature     0\n",
            "Fuel_Price      0\n",
            "CPI             0\n",
            "Unemployment    0\n",
            "dtype: int64\n"
          ]
        }
      ],
      "source": [
        "print(data.info())\n",
        "print(data.isnull().sum())"
      ]
    },
    {
      "cell_type": "code",
      "execution_count": 34,
      "metadata": {
        "colab": {
          "base_uri": "https://localhost:8080/"
        },
        "id": "4lD7mxa8_ujb",
        "outputId": "859f49d1-8fc2-4d0d-c2f7-50747c59a908"
      },
      "outputs": [
        {
          "output_type": "execute_result",
          "data": {
            "text/plain": [
              "(6435, 8)"
            ]
          },
          "metadata": {},
          "execution_count": 34
        }
      ],
      "source": [
        "data.shape"
      ]
    },
    {
      "cell_type": "markdown",
      "metadata": {
        "id": "ffrLTOB-_ujb"
      },
      "source": [
        "### Analysis 1: Which store has maximum sales"
      ]
    },
    {
      "cell_type": "code",
      "execution_count": 35,
      "metadata": {
        "colab": {
          "base_uri": "https://localhost:8080/",
          "height": 1000
        },
        "id": "gKbpN2zS_ujc",
        "outputId": "ea890ead-b17c-4c34-8c60-9581751edc10"
      },
      "outputs": [
        {
          "output_type": "execute_result",
          "data": {
            "text/plain": [
              "       Weekly_Sales\n",
              "Store              \n",
              "1      2.224028e+08\n",
              "2      2.753824e+08\n",
              "3      5.758674e+07\n",
              "4      2.995440e+08\n",
              "5      4.547569e+07\n",
              "6      2.237561e+08\n",
              "7      8.159828e+07\n",
              "8      1.299512e+08\n",
              "9      7.778922e+07\n",
              "10     2.716177e+08\n",
              "11     1.939628e+08\n",
              "12     1.442872e+08\n",
              "13     2.865177e+08\n",
              "14     2.889999e+08\n",
              "15     8.913368e+07\n",
              "16     7.425243e+07\n",
              "17     1.277821e+08\n",
              "18     1.551147e+08\n",
              "19     2.066349e+08\n",
              "20     3.013978e+08\n",
              "21     1.081179e+08\n",
              "22     1.470756e+08\n",
              "23     1.987506e+08\n",
              "24     1.940160e+08\n",
              "25     1.010612e+08\n",
              "26     1.434164e+08\n",
              "27     2.538559e+08\n",
              "28     1.892637e+08\n",
              "29     7.714155e+07\n",
              "30     6.271689e+07\n",
              "31     1.996139e+08\n",
              "32     1.668192e+08\n",
              "33     3.716022e+07\n",
              "34     1.382498e+08\n",
              "35     1.315207e+08\n",
              "36     5.341221e+07\n",
              "37     7.420274e+07\n",
              "38     5.515963e+07\n",
              "39     2.074455e+08\n",
              "40     1.378703e+08\n",
              "41     1.813419e+08\n",
              "42     7.956575e+07\n",
              "43     9.056544e+07\n",
              "44     4.329309e+07\n",
              "45     1.123953e+08"
            ],
            "text/html": [
              "\n",
              "  <div id=\"df-245d0855-49d7-4af6-b7e1-ed5bffce8d1d\">\n",
              "    <div class=\"colab-df-container\">\n",
              "      <div>\n",
              "<style scoped>\n",
              "    .dataframe tbody tr th:only-of-type {\n",
              "        vertical-align: middle;\n",
              "    }\n",
              "\n",
              "    .dataframe tbody tr th {\n",
              "        vertical-align: top;\n",
              "    }\n",
              "\n",
              "    .dataframe thead th {\n",
              "        text-align: right;\n",
              "    }\n",
              "</style>\n",
              "<table border=\"1\" class=\"dataframe\">\n",
              "  <thead>\n",
              "    <tr style=\"text-align: right;\">\n",
              "      <th></th>\n",
              "      <th>Weekly_Sales</th>\n",
              "    </tr>\n",
              "    <tr>\n",
              "      <th>Store</th>\n",
              "      <th></th>\n",
              "    </tr>\n",
              "  </thead>\n",
              "  <tbody>\n",
              "    <tr>\n",
              "      <th>1</th>\n",
              "      <td>2.224028e+08</td>\n",
              "    </tr>\n",
              "    <tr>\n",
              "      <th>2</th>\n",
              "      <td>2.753824e+08</td>\n",
              "    </tr>\n",
              "    <tr>\n",
              "      <th>3</th>\n",
              "      <td>5.758674e+07</td>\n",
              "    </tr>\n",
              "    <tr>\n",
              "      <th>4</th>\n",
              "      <td>2.995440e+08</td>\n",
              "    </tr>\n",
              "    <tr>\n",
              "      <th>5</th>\n",
              "      <td>4.547569e+07</td>\n",
              "    </tr>\n",
              "    <tr>\n",
              "      <th>6</th>\n",
              "      <td>2.237561e+08</td>\n",
              "    </tr>\n",
              "    <tr>\n",
              "      <th>7</th>\n",
              "      <td>8.159828e+07</td>\n",
              "    </tr>\n",
              "    <tr>\n",
              "      <th>8</th>\n",
              "      <td>1.299512e+08</td>\n",
              "    </tr>\n",
              "    <tr>\n",
              "      <th>9</th>\n",
              "      <td>7.778922e+07</td>\n",
              "    </tr>\n",
              "    <tr>\n",
              "      <th>10</th>\n",
              "      <td>2.716177e+08</td>\n",
              "    </tr>\n",
              "    <tr>\n",
              "      <th>11</th>\n",
              "      <td>1.939628e+08</td>\n",
              "    </tr>\n",
              "    <tr>\n",
              "      <th>12</th>\n",
              "      <td>1.442872e+08</td>\n",
              "    </tr>\n",
              "    <tr>\n",
              "      <th>13</th>\n",
              "      <td>2.865177e+08</td>\n",
              "    </tr>\n",
              "    <tr>\n",
              "      <th>14</th>\n",
              "      <td>2.889999e+08</td>\n",
              "    </tr>\n",
              "    <tr>\n",
              "      <th>15</th>\n",
              "      <td>8.913368e+07</td>\n",
              "    </tr>\n",
              "    <tr>\n",
              "      <th>16</th>\n",
              "      <td>7.425243e+07</td>\n",
              "    </tr>\n",
              "    <tr>\n",
              "      <th>17</th>\n",
              "      <td>1.277821e+08</td>\n",
              "    </tr>\n",
              "    <tr>\n",
              "      <th>18</th>\n",
              "      <td>1.551147e+08</td>\n",
              "    </tr>\n",
              "    <tr>\n",
              "      <th>19</th>\n",
              "      <td>2.066349e+08</td>\n",
              "    </tr>\n",
              "    <tr>\n",
              "      <th>20</th>\n",
              "      <td>3.013978e+08</td>\n",
              "    </tr>\n",
              "    <tr>\n",
              "      <th>21</th>\n",
              "      <td>1.081179e+08</td>\n",
              "    </tr>\n",
              "    <tr>\n",
              "      <th>22</th>\n",
              "      <td>1.470756e+08</td>\n",
              "    </tr>\n",
              "    <tr>\n",
              "      <th>23</th>\n",
              "      <td>1.987506e+08</td>\n",
              "    </tr>\n",
              "    <tr>\n",
              "      <th>24</th>\n",
              "      <td>1.940160e+08</td>\n",
              "    </tr>\n",
              "    <tr>\n",
              "      <th>25</th>\n",
              "      <td>1.010612e+08</td>\n",
              "    </tr>\n",
              "    <tr>\n",
              "      <th>26</th>\n",
              "      <td>1.434164e+08</td>\n",
              "    </tr>\n",
              "    <tr>\n",
              "      <th>27</th>\n",
              "      <td>2.538559e+08</td>\n",
              "    </tr>\n",
              "    <tr>\n",
              "      <th>28</th>\n",
              "      <td>1.892637e+08</td>\n",
              "    </tr>\n",
              "    <tr>\n",
              "      <th>29</th>\n",
              "      <td>7.714155e+07</td>\n",
              "    </tr>\n",
              "    <tr>\n",
              "      <th>30</th>\n",
              "      <td>6.271689e+07</td>\n",
              "    </tr>\n",
              "    <tr>\n",
              "      <th>31</th>\n",
              "      <td>1.996139e+08</td>\n",
              "    </tr>\n",
              "    <tr>\n",
              "      <th>32</th>\n",
              "      <td>1.668192e+08</td>\n",
              "    </tr>\n",
              "    <tr>\n",
              "      <th>33</th>\n",
              "      <td>3.716022e+07</td>\n",
              "    </tr>\n",
              "    <tr>\n",
              "      <th>34</th>\n",
              "      <td>1.382498e+08</td>\n",
              "    </tr>\n",
              "    <tr>\n",
              "      <th>35</th>\n",
              "      <td>1.315207e+08</td>\n",
              "    </tr>\n",
              "    <tr>\n",
              "      <th>36</th>\n",
              "      <td>5.341221e+07</td>\n",
              "    </tr>\n",
              "    <tr>\n",
              "      <th>37</th>\n",
              "      <td>7.420274e+07</td>\n",
              "    </tr>\n",
              "    <tr>\n",
              "      <th>38</th>\n",
              "      <td>5.515963e+07</td>\n",
              "    </tr>\n",
              "    <tr>\n",
              "      <th>39</th>\n",
              "      <td>2.074455e+08</td>\n",
              "    </tr>\n",
              "    <tr>\n",
              "      <th>40</th>\n",
              "      <td>1.378703e+08</td>\n",
              "    </tr>\n",
              "    <tr>\n",
              "      <th>41</th>\n",
              "      <td>1.813419e+08</td>\n",
              "    </tr>\n",
              "    <tr>\n",
              "      <th>42</th>\n",
              "      <td>7.956575e+07</td>\n",
              "    </tr>\n",
              "    <tr>\n",
              "      <th>43</th>\n",
              "      <td>9.056544e+07</td>\n",
              "    </tr>\n",
              "    <tr>\n",
              "      <th>44</th>\n",
              "      <td>4.329309e+07</td>\n",
              "    </tr>\n",
              "    <tr>\n",
              "      <th>45</th>\n",
              "      <td>1.123953e+08</td>\n",
              "    </tr>\n",
              "  </tbody>\n",
              "</table>\n",
              "</div>\n",
              "      <button class=\"colab-df-convert\" onclick=\"convertToInteractive('df-245d0855-49d7-4af6-b7e1-ed5bffce8d1d')\"\n",
              "              title=\"Convert this dataframe to an interactive table.\"\n",
              "              style=\"display:none;\">\n",
              "        \n",
              "  <svg xmlns=\"http://www.w3.org/2000/svg\" height=\"24px\"viewBox=\"0 0 24 24\"\n",
              "       width=\"24px\">\n",
              "    <path d=\"M0 0h24v24H0V0z\" fill=\"none\"/>\n",
              "    <path d=\"M18.56 5.44l.94 2.06.94-2.06 2.06-.94-2.06-.94-.94-2.06-.94 2.06-2.06.94zm-11 1L8.5 8.5l.94-2.06 2.06-.94-2.06-.94L8.5 2.5l-.94 2.06-2.06.94zm10 10l.94 2.06.94-2.06 2.06-.94-2.06-.94-.94-2.06-.94 2.06-2.06.94z\"/><path d=\"M17.41 7.96l-1.37-1.37c-.4-.4-.92-.59-1.43-.59-.52 0-1.04.2-1.43.59L10.3 9.45l-7.72 7.72c-.78.78-.78 2.05 0 2.83L4 21.41c.39.39.9.59 1.41.59.51 0 1.02-.2 1.41-.59l7.78-7.78 2.81-2.81c.8-.78.8-2.07 0-2.86zM5.41 20L4 18.59l7.72-7.72 1.47 1.35L5.41 20z\"/>\n",
              "  </svg>\n",
              "      </button>\n",
              "      \n",
              "  <style>\n",
              "    .colab-df-container {\n",
              "      display:flex;\n",
              "      flex-wrap:wrap;\n",
              "      gap: 12px;\n",
              "    }\n",
              "\n",
              "    .colab-df-convert {\n",
              "      background-color: #E8F0FE;\n",
              "      border: none;\n",
              "      border-radius: 50%;\n",
              "      cursor: pointer;\n",
              "      display: none;\n",
              "      fill: #1967D2;\n",
              "      height: 32px;\n",
              "      padding: 0 0 0 0;\n",
              "      width: 32px;\n",
              "    }\n",
              "\n",
              "    .colab-df-convert:hover {\n",
              "      background-color: #E2EBFA;\n",
              "      box-shadow: 0px 1px 2px rgba(60, 64, 67, 0.3), 0px 1px 3px 1px rgba(60, 64, 67, 0.15);\n",
              "      fill: #174EA6;\n",
              "    }\n",
              "\n",
              "    [theme=dark] .colab-df-convert {\n",
              "      background-color: #3B4455;\n",
              "      fill: #D2E3FC;\n",
              "    }\n",
              "\n",
              "    [theme=dark] .colab-df-convert:hover {\n",
              "      background-color: #434B5C;\n",
              "      box-shadow: 0px 1px 3px 1px rgba(0, 0, 0, 0.15);\n",
              "      filter: drop-shadow(0px 1px 2px rgba(0, 0, 0, 0.3));\n",
              "      fill: #FFFFFF;\n",
              "    }\n",
              "  </style>\n",
              "\n",
              "      <script>\n",
              "        const buttonEl =\n",
              "          document.querySelector('#df-245d0855-49d7-4af6-b7e1-ed5bffce8d1d button.colab-df-convert');\n",
              "        buttonEl.style.display =\n",
              "          google.colab.kernel.accessAllowed ? 'block' : 'none';\n",
              "\n",
              "        async function convertToInteractive(key) {\n",
              "          const element = document.querySelector('#df-245d0855-49d7-4af6-b7e1-ed5bffce8d1d');\n",
              "          const dataTable =\n",
              "            await google.colab.kernel.invokeFunction('convertToInteractive',\n",
              "                                                     [key], {});\n",
              "          if (!dataTable) return;\n",
              "\n",
              "          const docLinkHtml = 'Like what you see? Visit the ' +\n",
              "            '<a target=\"_blank\" href=https://colab.research.google.com/notebooks/data_table.ipynb>data table notebook</a>'\n",
              "            + ' to learn more about interactive tables.';\n",
              "          element.innerHTML = '';\n",
              "          dataTable['output_type'] = 'display_data';\n",
              "          await google.colab.output.renderOutput(dataTable, element);\n",
              "          const docLink = document.createElement('div');\n",
              "          docLink.innerHTML = docLinkHtml;\n",
              "          element.appendChild(docLink);\n",
              "        }\n",
              "      </script>\n",
              "    </div>\n",
              "  </div>\n",
              "  "
            ]
          },
          "metadata": {},
          "execution_count": 35
        }
      ],
      "source": [
        "store_sales = data.groupby('Store').agg({'Weekly_Sales': sum})\n",
        "store_sales"
      ]
    },
    {
      "cell_type": "code",
      "execution_count": 36,
      "metadata": {
        "colab": {
          "base_uri": "https://localhost:8080/",
          "height": 112
        },
        "id": "5_z1dPkf_ujc",
        "outputId": "6f10dd2c-bd16-497f-ca9b-ddec1b0cd1e5"
      },
      "outputs": [
        {
          "output_type": "execute_result",
          "data": {
            "text/plain": [
              "       Weekly_Sales\n",
              "Store              \n",
              "20     3.013978e+08"
            ],
            "text/html": [
              "\n",
              "  <div id=\"df-c60e4c48-1651-4915-96b2-8f06b9636808\">\n",
              "    <div class=\"colab-df-container\">\n",
              "      <div>\n",
              "<style scoped>\n",
              "    .dataframe tbody tr th:only-of-type {\n",
              "        vertical-align: middle;\n",
              "    }\n",
              "\n",
              "    .dataframe tbody tr th {\n",
              "        vertical-align: top;\n",
              "    }\n",
              "\n",
              "    .dataframe thead th {\n",
              "        text-align: right;\n",
              "    }\n",
              "</style>\n",
              "<table border=\"1\" class=\"dataframe\">\n",
              "  <thead>\n",
              "    <tr style=\"text-align: right;\">\n",
              "      <th></th>\n",
              "      <th>Weekly_Sales</th>\n",
              "    </tr>\n",
              "    <tr>\n",
              "      <th>Store</th>\n",
              "      <th></th>\n",
              "    </tr>\n",
              "  </thead>\n",
              "  <tbody>\n",
              "    <tr>\n",
              "      <th>20</th>\n",
              "      <td>3.013978e+08</td>\n",
              "    </tr>\n",
              "  </tbody>\n",
              "</table>\n",
              "</div>\n",
              "      <button class=\"colab-df-convert\" onclick=\"convertToInteractive('df-c60e4c48-1651-4915-96b2-8f06b9636808')\"\n",
              "              title=\"Convert this dataframe to an interactive table.\"\n",
              "              style=\"display:none;\">\n",
              "        \n",
              "  <svg xmlns=\"http://www.w3.org/2000/svg\" height=\"24px\"viewBox=\"0 0 24 24\"\n",
              "       width=\"24px\">\n",
              "    <path d=\"M0 0h24v24H0V0z\" fill=\"none\"/>\n",
              "    <path d=\"M18.56 5.44l.94 2.06.94-2.06 2.06-.94-2.06-.94-.94-2.06-.94 2.06-2.06.94zm-11 1L8.5 8.5l.94-2.06 2.06-.94-2.06-.94L8.5 2.5l-.94 2.06-2.06.94zm10 10l.94 2.06.94-2.06 2.06-.94-2.06-.94-.94-2.06-.94 2.06-2.06.94z\"/><path d=\"M17.41 7.96l-1.37-1.37c-.4-.4-.92-.59-1.43-.59-.52 0-1.04.2-1.43.59L10.3 9.45l-7.72 7.72c-.78.78-.78 2.05 0 2.83L4 21.41c.39.39.9.59 1.41.59.51 0 1.02-.2 1.41-.59l7.78-7.78 2.81-2.81c.8-.78.8-2.07 0-2.86zM5.41 20L4 18.59l7.72-7.72 1.47 1.35L5.41 20z\"/>\n",
              "  </svg>\n",
              "      </button>\n",
              "      \n",
              "  <style>\n",
              "    .colab-df-container {\n",
              "      display:flex;\n",
              "      flex-wrap:wrap;\n",
              "      gap: 12px;\n",
              "    }\n",
              "\n",
              "    .colab-df-convert {\n",
              "      background-color: #E8F0FE;\n",
              "      border: none;\n",
              "      border-radius: 50%;\n",
              "      cursor: pointer;\n",
              "      display: none;\n",
              "      fill: #1967D2;\n",
              "      height: 32px;\n",
              "      padding: 0 0 0 0;\n",
              "      width: 32px;\n",
              "    }\n",
              "\n",
              "    .colab-df-convert:hover {\n",
              "      background-color: #E2EBFA;\n",
              "      box-shadow: 0px 1px 2px rgba(60, 64, 67, 0.3), 0px 1px 3px 1px rgba(60, 64, 67, 0.15);\n",
              "      fill: #174EA6;\n",
              "    }\n",
              "\n",
              "    [theme=dark] .colab-df-convert {\n",
              "      background-color: #3B4455;\n",
              "      fill: #D2E3FC;\n",
              "    }\n",
              "\n",
              "    [theme=dark] .colab-df-convert:hover {\n",
              "      background-color: #434B5C;\n",
              "      box-shadow: 0px 1px 3px 1px rgba(0, 0, 0, 0.15);\n",
              "      filter: drop-shadow(0px 1px 2px rgba(0, 0, 0, 0.3));\n",
              "      fill: #FFFFFF;\n",
              "    }\n",
              "  </style>\n",
              "\n",
              "      <script>\n",
              "        const buttonEl =\n",
              "          document.querySelector('#df-c60e4c48-1651-4915-96b2-8f06b9636808 button.colab-df-convert');\n",
              "        buttonEl.style.display =\n",
              "          google.colab.kernel.accessAllowed ? 'block' : 'none';\n",
              "\n",
              "        async function convertToInteractive(key) {\n",
              "          const element = document.querySelector('#df-c60e4c48-1651-4915-96b2-8f06b9636808');\n",
              "          const dataTable =\n",
              "            await google.colab.kernel.invokeFunction('convertToInteractive',\n",
              "                                                     [key], {});\n",
              "          if (!dataTable) return;\n",
              "\n",
              "          const docLinkHtml = 'Like what you see? Visit the ' +\n",
              "            '<a target=\"_blank\" href=https://colab.research.google.com/notebooks/data_table.ipynb>data table notebook</a>'\n",
              "            + ' to learn more about interactive tables.';\n",
              "          element.innerHTML = '';\n",
              "          dataTable['output_type'] = 'display_data';\n",
              "          await google.colab.output.renderOutput(dataTable, element);\n",
              "          const docLink = document.createElement('div');\n",
              "          docLink.innerHTML = docLinkHtml;\n",
              "          element.appendChild(docLink);\n",
              "        }\n",
              "      </script>\n",
              "    </div>\n",
              "  </div>\n",
              "  "
            ]
          },
          "metadata": {},
          "execution_count": 36
        }
      ],
      "source": [
        "max_store_sales =store_sales[store_sales.Weekly_Sales == store_sales.Weekly_Sales.max()]\n",
        "max_store_sales"
      ]
    },
    {
      "cell_type": "code",
      "execution_count": 37,
      "metadata": {
        "colab": {
          "base_uri": "https://localhost:8080/",
          "height": 636
        },
        "id": "V_3rFf74_ujc",
        "outputId": "9879e709-c046-4393-c057-6d193172aa37"
      },
      "outputs": [
        {
          "output_type": "execute_result",
          "data": {
            "text/plain": [
              "<Axes: xlabel='Store'>"
            ]
          },
          "metadata": {},
          "execution_count": 37
        },
        {
          "output_type": "display_data",
          "data": {
            "text/plain": [
              "<Figure size 1080x720 with 1 Axes>"
            ],
            "image/png": "[encoded data removed]"
          },
          "metadata": {
            "needs_background": "light"
          }
        }
      ],
      "source": [
        "plt.figure(figsize=(15,10))\n",
        "data.groupby('Store')['Weekly_Sales'].sum().sort_values(ascending=False).plot(kind='bar')"
      ]
    },
    {
      "cell_type": "markdown",
      "metadata": {
        "id": "HjxfLm7O_ujc"
      },
      "source": [
        "### Store 20 has maximum sale of 3.013978e+08"
      ]
    },
    {
      "cell_type": "code",
      "execution_count": 37,
      "metadata": {
        "id": "5AwThw1P_ujc"
      },
      "outputs": [],
      "source": []
    },
    {
      "cell_type": "markdown",
      "metadata": {
        "id": "tQ3q-NOi_ujc"
      },
      "source": [
        "### Analysis 2: Which store has maximum standard deviation ?"
      ]
    },
    {
      "cell_type": "code",
      "execution_count": 38,
      "metadata": {
        "colab": {
          "base_uri": "https://localhost:8080/"
        },
        "id": "SEchoDwF_ujd",
        "outputId": "f63f22d2-ccbd-4571-e4ec-6fd73c769aa0"
      },
      "outputs": [
        {
          "output_type": "execute_result",
          "data": {
            "text/plain": [
              "Store\n",
              "1     155980.767761\n",
              "2     237683.694682\n",
              "3      46319.631557\n",
              "4     266201.442297\n",
              "5      37737.965745\n",
              "6     212525.855862\n",
              "7     112585.469220\n",
              "8     106280.829881\n",
              "9      69028.666585\n",
              "10    302262.062504\n",
              "11    165833.887863\n",
              "12    139166.871880\n",
              "13    265506.995776\n",
              "14    317569.949476\n",
              "15    120538.652043\n",
              "16     85769.680133\n",
              "17    112162.936087\n",
              "18    176641.510839\n",
              "19    191722.638730\n",
              "20    275900.562742\n",
              "21    128752.812853\n",
              "22    161251.350631\n",
              "23    249788.038068\n",
              "24    167745.677567\n",
              "25    112976.788600\n",
              "26    110431.288141\n",
              "27    239930.135688\n",
              "28    181758.967539\n",
              "29     99120.136596\n",
              "30     22809.665590\n",
              "31    125855.942933\n",
              "32    138017.252087\n",
              "33     24132.927322\n",
              "34    104630.164676\n",
              "35    211243.457791\n",
              "36     60725.173579\n",
              "37     21837.461190\n",
              "38     42768.169450\n",
              "39    217466.454833\n",
              "40    119002.112858\n",
              "41    187907.162766\n",
              "42     50262.925530\n",
              "43     40598.413260\n",
              "44     24762.832015\n",
              "45    130168.526635\n",
              "Name: Weekly_Sales, dtype: float64"
            ]
          },
          "metadata": {},
          "execution_count": 38
        }
      ],
      "source": [
        "Std_Sales = data.groupby(['Store'])['Weekly_Sales'].std()\n",
        "Std_Sales"
      ]
    },
    {
      "cell_type": "code",
      "execution_count": 39,
      "metadata": {
        "colab": {
          "base_uri": "https://localhost:8080/"
        },
        "id": "WRAS0q2X_ujd",
        "outputId": "80347271-18de-4e08-ac15-f33131e38606"
      },
      "outputs": [
        {
          "output_type": "execute_result",
          "data": {
            "text/plain": [
              "317569.9494755081"
            ]
          },
          "metadata": {},
          "execution_count": 39
        }
      ],
      "source": [
        "max_std = max(Std_Sales)\n",
        "max_std"
      ]
    },
    {
      "cell_type": "code",
      "execution_count": 40,
      "metadata": {
        "colab": {
          "base_uri": "https://localhost:8080/"
        },
        "id": "XvoBoMpe_ujd",
        "outputId": "050984a1-9b48-4ed8-d014-99912b539335"
      },
      "outputs": [
        {
          "output_type": "stream",
          "name": "stdout",
          "text": [
            "Store which has maximum standard deviation is 14\n"
          ]
        }
      ],
      "source": [
        "for i in range(1,46):\n",
        "    if max_std == Std_Sales[i]:\n",
        "        print('Store which has maximum standard deviation is {}'.format(i))"
      ]
    },
    {
      "cell_type": "code",
      "source": [
        "mean_sales=data.groupby(['Store'])['Weekly_Sales'].mean()\n",
        "\n",
        "#Coefficient of variation=standard deviation/mean\n",
        "cv=Std_Sales/mean_sales\n",
        "cv"
      ],
      "metadata": {
        "colab": {
          "base_uri": "https://localhost:8080/"
        },
        "id": "i6d15153nltT",
        "outputId": "8d8cd376-fd25-4a1e-d5d1-76bdeacde499"
      },
      "execution_count": 42,
      "outputs": [
        {
          "output_type": "execute_result",
          "data": {
            "text/plain": [
              "Store\n",
              "1     0.100292\n",
              "2     0.123424\n",
              "3     0.115021\n",
              "4     0.127083\n",
              "5     0.118668\n",
              "6     0.135823\n",
              "7     0.197305\n",
              "8     0.116953\n",
              "9     0.126895\n",
              "10    0.159133\n",
              "11    0.122262\n",
              "12    0.137925\n",
              "13    0.132514\n",
              "14    0.157137\n",
              "15    0.193384\n",
              "16    0.165181\n",
              "17    0.125521\n",
              "18    0.162845\n",
              "19    0.132680\n",
              "20    0.130903\n",
              "21    0.170292\n",
              "22    0.156783\n",
              "23    0.179721\n",
              "24    0.123637\n",
              "25    0.159860\n",
              "26    0.110111\n",
              "27    0.135155\n",
              "28    0.137330\n",
              "29    0.183742\n",
              "30    0.052008\n",
              "31    0.090161\n",
              "32    0.118310\n",
              "33    0.092868\n",
              "34    0.108225\n",
              "35    0.229681\n",
              "36    0.162579\n",
              "37    0.042084\n",
              "38    0.110875\n",
              "39    0.149908\n",
              "40    0.123430\n",
              "41    0.148177\n",
              "42    0.090335\n",
              "43    0.064104\n",
              "44    0.081793\n",
              "45    0.165613\n",
              "Name: Weekly_Sales, dtype: float64"
            ]
          },
          "metadata": {},
          "execution_count": 42
        }
      ]
    },
    {
      "cell_type": "code",
      "source": [
        "max_cv=cv.max()\n",
        "max_cv"
      ],
      "metadata": {
        "colab": {
          "base_uri": "https://localhost:8080/"
        },
        "id": "Y9VNc9lOptci",
        "outputId": "abaf2034-5f00-41f3-8e96-e41729906504"
      },
      "execution_count": 43,
      "outputs": [
        {
          "output_type": "execute_result",
          "data": {
            "text/plain": [
              "0.2296811138997643"
            ]
          },
          "metadata": {},
          "execution_count": 43
        }
      ]
    },
    {
      "cell_type": "code",
      "execution_count": 44,
      "metadata": {
        "id": "daCClYxe_ujd",
        "colab": {
          "base_uri": "https://localhost:8080/"
        },
        "outputId": "e5a9aafc-9e29-47cd-a717-4a1913fc0035"
      },
      "outputs": [
        {
          "output_type": "stream",
          "name": "stdout",
          "text": [
            "Store which has maximum coefficient of variation is 35\n"
          ]
        }
      ],
      "source": [
        "for i in range(1,46):\n",
        "  if max_cv==cv[i]:\n",
        "    print('Store which has maximum coefficient of variation is {}'.format(i))"
      ]
    },
    {
      "cell_type": "markdown",
      "metadata": {
        "id": "rKyGQ4us_ujd"
      },
      "source": [
        "### Store 14 has maximum standard deviation and store 35 has maximum coefficient of variation."
      ]
    },
    {
      "cell_type": "markdown",
      "metadata": {
        "id": "pMKnNyOG_ujd"
      },
      "source": [
        "### Analysis 3 : Which store/s has good quarterly growth rate in Q3’2012?"
      ]
    },
    {
      "cell_type": "code",
      "execution_count": 73,
      "metadata": {
        "colab": {
          "base_uri": "https://localhost:8080/"
        },
        "id": "MpWOqVK2_uje",
        "outputId": "a3238759-1434-4311-b848-3da0f45f6875"
      },
      "outputs": [
        {
          "output_type": "stream",
          "name": "stdout",
          "text": [
            "<class 'pandas.core.frame.DataFrame'>\n",
            "RangeIndex: 6435 entries, 0 to 6434\n",
            "Data columns (total 11 columns):\n",
            " #   Column        Non-Null Count  Dtype         \n",
            "---  ------        --------------  -----         \n",
            " 0   Store         6435 non-null   int64         \n",
            " 1   Date          6435 non-null   datetime64[ns]\n",
            " 2   Weekly_Sales  6435 non-null   float64       \n",
            " 3   Holiday_Flag  6435 non-null   int64         \n",
            " 4   Temperature   6435 non-null   float64       \n",
            " 5   Fuel_Price    6435 non-null   float64       \n",
            " 6   CPI           6435 non-null   float64       \n",
            " 7   Unemployment  6435 non-null   float64       \n",
            " 8   Day           6435 non-null   int64         \n",
            " 9   Month         6435 non-null   int64         \n",
            " 10  Year          6435 non-null   int64         \n",
            "dtypes: datetime64[ns](1), float64(5), int64(5)\n",
            "memory usage: 553.1 KB\n",
            "None\n"
          ]
        }
      ],
      "source": [
        "# The date column is object type. So need to convert to datetime.\n",
        "from datetime import datetime\n",
        "data['Date']=pd.to_datetime(data['Date'])\n",
        "print(data.info())"
      ]
    },
    {
      "cell_type": "code",
      "execution_count": 46,
      "metadata": {
        "id": "LiPODdc5_uje"
      },
      "outputs": [],
      "source": [
        "#Q2 Sales\n",
        "q2_sales=data[(data['Date']>= '2012-4-01') & (data['Date']<='2012-6-30')].groupby('Store')['Weekly_Sales'].sum()\n",
        "#Q3 Sales\n",
        "q3_sales=data[(data['Date']>= '2012-7-01') & (data['Date']<='2012-9-30')].groupby('Store')['Weekly_Sales'].sum()"
      ]
    },
    {
      "cell_type": "code",
      "execution_count": 47,
      "metadata": {
        "colab": {
          "base_uri": "https://localhost:8080/",
          "height": 1000
        },
        "id": "rnFgEOwB_uje",
        "outputId": "036b0f2e-fb1e-4023-9173-f413735da72d"
      },
      "outputs": [
        {
          "output_type": "execute_result",
          "data": {
            "text/plain": [
              "          Q2_sales     Q3_sales  Difference  Growth Rate\n",
              "Store                                                   \n",
              "16      6626133.44   6441311.11  -184822.33    -2.789294\n",
              "7       7613593.92   7322393.92  -291200.00    -3.824738\n",
              "35     10753570.97  10252122.68  -501448.29    -4.663086\n",
              "26     13218289.66  12417575.35  -800714.31    -6.057624\n",
              "39     20191585.63  18899955.17 -1291630.46    -6.396875\n",
              "23     18283424.90  17103654.36 -1179770.54    -6.452678\n",
              "41     17560035.88  16373588.44 -1186447.44    -6.756521\n",
              "44      4322555.33   4020486.01  -302069.32    -6.988212\n",
              "32     15415236.21  14142164.84 -1273071.37    -8.258527\n",
              "37      6859777.96   6250524.08  -609253.88    -8.881539\n",
              "8      11934275.61  10873860.34 -1060415.27    -8.885460\n",
              "21      9226279.62   8403507.99  -822771.63    -8.917697\n",
              "19     18315278.56  16644341.31 -1670937.25    -9.123188\n",
              "24     17768191.98  16125999.86 -1642192.12    -9.242314\n",
              "13     26803225.55  24319994.35 -2483231.20    -9.264673\n",
              "40     12849747.45  11647661.37 -1202086.08    -9.354939\n",
              "33      3512138.05   3177072.43  -335065.62    -9.540218\n",
              "18     13834706.08  12507521.72 -1327184.36    -9.593152\n",
              "4      28384185.16  25652119.35 -2732065.81    -9.625310\n",
              "31     18249155.35  16454328.46 -1794826.89    -9.835123\n",
              "11     17879095.77  16094363.07 -1784732.70    -9.982231\n",
              "25      9247467.19   8309440.44  -938026.75   -10.143607\n",
              "42      7608247.31   6830839.86  -777407.45   -10.217957\n",
              "10     23598433.93  21169356.45 -2429077.48   -10.293384\n",
              "30      5786335.45   5181974.44  -604361.01   -10.444624\n",
              "20     27550180.62  24665938.11 -2884242.51   -10.469051\n",
              "43      8239792.67   7376726.03  -863066.64   -10.474373\n",
              "38      5732362.70   5129297.64  -603065.06   -10.520358\n",
              "27     22593640.73  20191238.11 -2402402.62   -10.633092\n",
              "2      25085123.61  22396867.61 -2688256.00   -10.716535\n",
              "3       5562668.16   4966495.93  -596172.23   -10.717379\n",
              "17     12918892.02  11533998.38 -1384893.64   -10.719910\n",
              "12     13193365.04  11777508.50 -1415856.54   -10.731580\n",
              "34     12858027.98  11476258.98 -1381769.00   -10.746352\n",
              "22     13329065.39  11818544.33 -1510521.06   -11.332535\n",
              "28     16985999.95  15055659.67 -1930340.28   -11.364302\n",
              "1      21036965.58  18633209.98 -2403755.60   -11.426342\n",
              "6      20728970.16  18341221.11 -2387749.05   -11.518899\n",
              "9       7431320.13   6528239.56  -903080.57   -12.152357\n",
              "15      7867952.23   6909374.37  -958577.86   -12.183321\n",
              "5       4427262.21   3880621.88  -546640.33   -12.347142\n",
              "36      4090378.90   3578123.58  -512255.32   -12.523420\n",
              "29      7034493.19   6127862.07  -906631.12   -12.888364\n",
              "45     10278900.05   8851242.32 -1427657.73   -13.889207\n",
              "14     24427769.06  20140430.40 -4287338.66   -17.551086"
            ],
            "text/html": [
              "\n",
              "  <div id=\"df-f163a2da-3cb3-4bef-aabc-392a3968394e\">\n",
              "    <div class=\"colab-df-container\">\n",
              "      <div>\n",
              "<style scoped>\n",
              "    .dataframe tbody tr th:only-of-type {\n",
              "        vertical-align: middle;\n",
              "    }\n",
              "\n",
              "    .dataframe tbody tr th {\n",
              "        vertical-align: top;\n",
              "    }\n",
              "\n",
              "    .dataframe thead th {\n",
              "        text-align: right;\n",
              "    }\n",
              "</style>\n",
              "<table border=\"1\" class=\"dataframe\">\n",
              "  <thead>\n",
              "    <tr style=\"text-align: right;\">\n",
              "      <th></th>\n",
              "      <th>Q2_sales</th>\n",
              "      <th>Q3_sales</th>\n",
              "      <th>Difference</th>\n",
              "      <th>Growth Rate</th>\n",
              "    </tr>\n",
              "    <tr>\n",
              "      <th>Store</th>\n",
              "      <th></th>\n",
              "      <th></th>\n",
              "      <th></th>\n",
              "      <th></th>\n",
              "    </tr>\n",
              "  </thead>\n",
              "  <tbody>\n",
              "    <tr>\n",
              "      <th>16</th>\n",
              "      <td>6626133.44</td>\n",
              "      <td>6441311.11</td>\n",
              "      <td>-184822.33</td>\n",
              "      <td>-2.789294</td>\n",
              "    </tr>\n",
              "    <tr>\n",
              "      <th>7</th>\n",
              "      <td>7613593.92</td>\n",
              "      <td>7322393.92</td>\n",
              "      <td>-291200.00</td>\n",
              "      <td>-3.824738</td>\n",
              "    </tr>\n",
              "    <tr>\n",
              "      <th>35</th>\n",
              "      <td>10753570.97</td>\n",
              "      <td>10252122.68</td>\n",
              "      <td>-501448.29</td>\n",
              "      <td>-4.663086</td>\n",
              "    </tr>\n",
              "    <tr>\n",
              "      <th>26</th>\n",
              "      <td>13218289.66</td>\n",
              "      <td>12417575.35</td>\n",
              "      <td>-800714.31</td>\n",
              "      <td>-6.057624</td>\n",
              "    </tr>\n",
              "    <tr>\n",
              "      <th>39</th>\n",
              "      <td>20191585.63</td>\n",
              "      <td>18899955.17</td>\n",
              "      <td>-1291630.46</td>\n",
              "      <td>-6.396875</td>\n",
              "    </tr>\n",
              "    <tr>\n",
              "      <th>23</th>\n",
              "      <td>18283424.90</td>\n",
              "      <td>17103654.36</td>\n",
              "      <td>-1179770.54</td>\n",
              "      <td>-6.452678</td>\n",
              "    </tr>\n",
              "    <tr>\n",
              "      <th>41</th>\n",
              "      <td>17560035.88</td>\n",
              "      <td>16373588.44</td>\n",
              "      <td>-1186447.44</td>\n",
              "      <td>-6.756521</td>\n",
              "    </tr>\n",
              "    <tr>\n",
              "      <th>44</th>\n",
              "      <td>4322555.33</td>\n",
              "      <td>4020486.01</td>\n",
              "      <td>-302069.32</td>\n",
              "      <td>-6.988212</td>\n",
              "    </tr>\n",
              "    <tr>\n",
              "      <th>32</th>\n",
              "      <td>15415236.21</td>\n",
              "      <td>14142164.84</td>\n",
              "      <td>-1273071.37</td>\n",
              "      <td>-8.258527</td>\n",
              "    </tr>\n",
              "    <tr>\n",
              "      <th>37</th>\n",
              "      <td>6859777.96</td>\n",
              "      <td>6250524.08</td>\n",
              "      <td>-609253.88</td>\n",
              "      <td>-8.881539</td>\n",
              "    </tr>\n",
              "    <tr>\n",
              "      <th>8</th>\n",
              "      <td>11934275.61</td>\n",
              "      <td>10873860.34</td>\n",
              "      <td>-1060415.27</td>\n",
              "      <td>-8.885460</td>\n",
              "    </tr>\n",
              "    <tr>\n",
              "      <th>21</th>\n",
              "      <td>9226279.62</td>\n",
              "      <td>8403507.99</td>\n",
              "      <td>-822771.63</td>\n",
              "      <td>-8.917697</td>\n",
              "    </tr>\n",
              "    <tr>\n",
              "      <th>19</th>\n",
              "      <td>18315278.56</td>\n",
              "      <td>16644341.31</td>\n",
              "      <td>-1670937.25</td>\n",
              "      <td>-9.123188</td>\n",
              "    </tr>\n",
              "    <tr>\n",
              "      <th>24</th>\n",
              "      <td>17768191.98</td>\n",
              "      <td>16125999.86</td>\n",
              "      <td>-1642192.12</td>\n",
              "      <td>-9.242314</td>\n",
              "    </tr>\n",
              "    <tr>\n",
              "      <th>13</th>\n",
              "      <td>26803225.55</td>\n",
              "      <td>24319994.35</td>\n",
              "      <td>-2483231.20</td>\n",
              "      <td>-9.264673</td>\n",
              "    </tr>\n",
              "    <tr>\n",
              "      <th>40</th>\n",
              "      <td>12849747.45</td>\n",
              "      <td>11647661.37</td>\n",
              "      <td>-1202086.08</td>\n",
              "      <td>-9.354939</td>\n",
              "    </tr>\n",
              "    <tr>\n",
              "      <th>33</th>\n",
              "      <td>3512138.05</td>\n",
              "      <td>3177072.43</td>\n",
              "      <td>-335065.62</td>\n",
              "      <td>-9.540218</td>\n",
              "    </tr>\n",
              "    <tr>\n",
              "      <th>18</th>\n",
              "      <td>13834706.08</td>\n",
              "      <td>12507521.72</td>\n",
              "      <td>-1327184.36</td>\n",
              "      <td>-9.593152</td>\n",
              "    </tr>\n",
              "    <tr>\n",
              "      <th>4</th>\n",
              "      <td>28384185.16</td>\n",
              "      <td>25652119.35</td>\n",
              "      <td>-2732065.81</td>\n",
              "      <td>-9.625310</td>\n",
              "    </tr>\n",
              "    <tr>\n",
              "      <th>31</th>\n",
              "      <td>18249155.35</td>\n",
              "      <td>16454328.46</td>\n",
              "      <td>-1794826.89</td>\n",
              "      <td>-9.835123</td>\n",
              "    </tr>\n",
              "    <tr>\n",
              "      <th>11</th>\n",
              "      <td>17879095.77</td>\n",
              "      <td>16094363.07</td>\n",
              "      <td>-1784732.70</td>\n",
              "      <td>-9.982231</td>\n",
              "    </tr>\n",
              "    <tr>\n",
              "      <th>25</th>\n",
              "      <td>9247467.19</td>\n",
              "      <td>8309440.44</td>\n",
              "      <td>-938026.75</td>\n",
              "      <td>-10.143607</td>\n",
              "    </tr>\n",
              "    <tr>\n",
              "      <th>42</th>\n",
              "      <td>7608247.31</td>\n",
              "      <td>6830839.86</td>\n",
              "      <td>-777407.45</td>\n",
              "      <td>-10.217957</td>\n",
              "    </tr>\n",
              "    <tr>\n",
              "      <th>10</th>\n",
              "      <td>23598433.93</td>\n",
              "      <td>21169356.45</td>\n",
              "      <td>-2429077.48</td>\n",
              "      <td>-10.293384</td>\n",
              "    </tr>\n",
              "    <tr>\n",
              "      <th>30</th>\n",
              "      <td>5786335.45</td>\n",
              "      <td>5181974.44</td>\n",
              "      <td>-604361.01</td>\n",
              "      <td>-10.444624</td>\n",
              "    </tr>\n",
              "    <tr>\n",
              "      <th>20</th>\n",
              "      <td>27550180.62</td>\n",
              "      <td>24665938.11</td>\n",
              "      <td>-2884242.51</td>\n",
              "      <td>-10.469051</td>\n",
              "    </tr>\n",
              "    <tr>\n",
              "      <th>43</th>\n",
              "      <td>8239792.67</td>\n",
              "      <td>7376726.03</td>\n",
              "      <td>-863066.64</td>\n",
              "      <td>-10.474373</td>\n",
              "    </tr>\n",
              "    <tr>\n",
              "      <th>38</th>\n",
              "      <td>5732362.70</td>\n",
              "      <td>5129297.64</td>\n",
              "      <td>-603065.06</td>\n",
              "      <td>-10.520358</td>\n",
              "    </tr>\n",
              "    <tr>\n",
              "      <th>27</th>\n",
              "      <td>22593640.73</td>\n",
              "      <td>20191238.11</td>\n",
              "      <td>-2402402.62</td>\n",
              "      <td>-10.633092</td>\n",
              "    </tr>\n",
              "    <tr>\n",
              "      <th>2</th>\n",
              "      <td>25085123.61</td>\n",
              "      <td>22396867.61</td>\n",
              "      <td>-2688256.00</td>\n",
              "      <td>-10.716535</td>\n",
              "    </tr>\n",
              "    <tr>\n",
              "      <th>3</th>\n",
              "      <td>5562668.16</td>\n",
              "      <td>4966495.93</td>\n",
              "      <td>-596172.23</td>\n",
              "      <td>-10.717379</td>\n",
              "    </tr>\n",
              "    <tr>\n",
              "      <th>17</th>\n",
              "      <td>12918892.02</td>\n",
              "      <td>11533998.38</td>\n",
              "      <td>-1384893.64</td>\n",
              "      <td>-10.719910</td>\n",
              "    </tr>\n",
              "    <tr>\n",
              "      <th>12</th>\n",
              "      <td>13193365.04</td>\n",
              "      <td>11777508.50</td>\n",
              "      <td>-1415856.54</td>\n",
              "      <td>-10.731580</td>\n",
              "    </tr>\n",
              "    <tr>\n",
              "      <th>34</th>\n",
              "      <td>12858027.98</td>\n",
              "      <td>11476258.98</td>\n",
              "      <td>-1381769.00</td>\n",
              "      <td>-10.746352</td>\n",
              "    </tr>\n",
              "    <tr>\n",
              "      <th>22</th>\n",
              "      <td>13329065.39</td>\n",
              "      <td>11818544.33</td>\n",
              "      <td>-1510521.06</td>\n",
              "      <td>-11.332535</td>\n",
              "    </tr>\n",
              "    <tr>\n",
              "      <th>28</th>\n",
              "      <td>16985999.95</td>\n",
              "      <td>15055659.67</td>\n",
              "      <td>-1930340.28</td>\n",
              "      <td>-11.364302</td>\n",
              "    </tr>\n",
              "    <tr>\n",
              "      <th>1</th>\n",
              "      <td>21036965.58</td>\n",
              "      <td>18633209.98</td>\n",
              "      <td>-2403755.60</td>\n",
              "      <td>-11.426342</td>\n",
              "    </tr>\n",
              "    <tr>\n",
              "      <th>6</th>\n",
              "      <td>20728970.16</td>\n",
              "      <td>18341221.11</td>\n",
              "      <td>-2387749.05</td>\n",
              "      <td>-11.518899</td>\n",
              "    </tr>\n",
              "    <tr>\n",
              "      <th>9</th>\n",
              "      <td>7431320.13</td>\n",
              "      <td>6528239.56</td>\n",
              "      <td>-903080.57</td>\n",
              "      <td>-12.152357</td>\n",
              "    </tr>\n",
              "    <tr>\n",
              "      <th>15</th>\n",
              "      <td>7867952.23</td>\n",
              "      <td>6909374.37</td>\n",
              "      <td>-958577.86</td>\n",
              "      <td>-12.183321</td>\n",
              "    </tr>\n",
              "    <tr>\n",
              "      <th>5</th>\n",
              "      <td>4427262.21</td>\n",
              "      <td>3880621.88</td>\n",
              "      <td>-546640.33</td>\n",
              "      <td>-12.347142</td>\n",
              "    </tr>\n",
              "    <tr>\n",
              "      <th>36</th>\n",
              "      <td>4090378.90</td>\n",
              "      <td>3578123.58</td>\n",
              "      <td>-512255.32</td>\n",
              "      <td>-12.523420</td>\n",
              "    </tr>\n",
              "    <tr>\n",
              "      <th>29</th>\n",
              "      <td>7034493.19</td>\n",
              "      <td>6127862.07</td>\n",
              "      <td>-906631.12</td>\n",
              "      <td>-12.888364</td>\n",
              "    </tr>\n",
              "    <tr>\n",
              "      <th>45</th>\n",
              "      <td>10278900.05</td>\n",
              "      <td>8851242.32</td>\n",
              "      <td>-1427657.73</td>\n",
              "      <td>-13.889207</td>\n",
              "    </tr>\n",
              "    <tr>\n",
              "      <th>14</th>\n",
              "      <td>24427769.06</td>\n",
              "      <td>20140430.40</td>\n",
              "      <td>-4287338.66</td>\n",
              "      <td>-17.551086</td>\n",
              "    </tr>\n",
              "  </tbody>\n",
              "</table>\n",
              "</div>\n",
              "      <button class=\"colab-df-convert\" onclick=\"convertToInteractive('df-f163a2da-3cb3-4bef-aabc-392a3968394e')\"\n",
              "              title=\"Convert this dataframe to an interactive table.\"\n",
              "              style=\"display:none;\">\n",
              "        \n",
              "  <svg xmlns=\"http://www.w3.org/2000/svg\" height=\"24px\"viewBox=\"0 0 24 24\"\n",
              "       width=\"24px\">\n",
              "    <path d=\"M0 0h24v24H0V0z\" fill=\"none\"/>\n",
              "    <path d=\"M18.56 5.44l.94 2.06.94-2.06 2.06-.94-2.06-.94-.94-2.06-.94 2.06-2.06.94zm-11 1L8.5 8.5l.94-2.06 2.06-.94-2.06-.94L8.5 2.5l-.94 2.06-2.06.94zm10 10l.94 2.06.94-2.06 2.06-.94-2.06-.94-.94-2.06-.94 2.06-2.06.94z\"/><path d=\"M17.41 7.96l-1.37-1.37c-.4-.4-.92-.59-1.43-.59-.52 0-1.04.2-1.43.59L10.3 9.45l-7.72 7.72c-.78.78-.78 2.05 0 2.83L4 21.41c.39.39.9.59 1.41.59.51 0 1.02-.2 1.41-.59l7.78-7.78 2.81-2.81c.8-.78.8-2.07 0-2.86zM5.41 20L4 18.59l7.72-7.72 1.47 1.35L5.41 20z\"/>\n",
              "  </svg>\n",
              "      </button>\n",
              "      \n",
              "  <style>\n",
              "    .colab-df-container {\n",
              "      display:flex;\n",
              "      flex-wrap:wrap;\n",
              "      gap: 12px;\n",
              "    }\n",
              "\n",
              "    .colab-df-convert {\n",
              "      background-color: #E8F0FE;\n",
              "      border: none;\n",
              "      border-radius: 50%;\n",
              "      cursor: pointer;\n",
              "      display: none;\n",
              "      fill: #1967D2;\n",
              "      height: 32px;\n",
              "      padding: 0 0 0 0;\n",
              "      width: 32px;\n",
              "    }\n",
              "\n",
              "    .colab-df-convert:hover {\n",
              "      background-color: #E2EBFA;\n",
              "      box-shadow: 0px 1px 2px rgba(60, 64, 67, 0.3), 0px 1px 3px 1px rgba(60, 64, 67, 0.15);\n",
              "      fill: #174EA6;\n",
              "    }\n",
              "\n",
              "    [theme=dark] .colab-df-convert {\n",
              "      background-color: #3B4455;\n",
              "      fill: #D2E3FC;\n",
              "    }\n",
              "\n",
              "    [theme=dark] .colab-df-convert:hover {\n",
              "      background-color: #434B5C;\n",
              "      box-shadow: 0px 1px 3px 1px rgba(0, 0, 0, 0.15);\n",
              "      filter: drop-shadow(0px 1px 2px rgba(0, 0, 0, 0.3));\n",
              "      fill: #FFFFFF;\n",
              "    }\n",
              "  </style>\n",
              "\n",
              "      <script>\n",
              "        const buttonEl =\n",
              "          document.querySelector('#df-f163a2da-3cb3-4bef-aabc-392a3968394e button.colab-df-convert');\n",
              "        buttonEl.style.display =\n",
              "          google.colab.kernel.accessAllowed ? 'block' : 'none';\n",
              "\n",
              "        async function convertToInteractive(key) {\n",
              "          const element = document.querySelector('#df-f163a2da-3cb3-4bef-aabc-392a3968394e');\n",
              "          const dataTable =\n",
              "            await google.colab.kernel.invokeFunction('convertToInteractive',\n",
              "                                                     [key], {});\n",
              "          if (!dataTable) return;\n",
              "\n",
              "          const docLinkHtml = 'Like what you see? Visit the ' +\n",
              "            '<a target=\"_blank\" href=https://colab.research.google.com/notebooks/data_table.ipynb>data table notebook</a>'\n",
              "            + ' to learn more about interactive tables.';\n",
              "          element.innerHTML = '';\n",
              "          dataTable['output_type'] = 'display_data';\n",
              "          await google.colab.output.renderOutput(dataTable, element);\n",
              "          const docLink = document.createElement('div');\n",
              "          docLink.innerHTML = docLinkHtml;\n",
              "          element.appendChild(docLink);\n",
              "        }\n",
              "      </script>\n",
              "    </div>\n",
              "  </div>\n",
              "  "
            ]
          },
          "metadata": {},
          "execution_count": 47
        }
      ],
      "source": [
        "#First we need to find the difference b/w Q2 sales and Q3 sales and find the Growth rate.\n",
        "\n",
        "pd.DataFrame({'Q2_sales':q2_sales,\n",
        "             'Q3_sales':q3_sales,\n",
        "             'Difference':q3_sales-q2_sales,\n",
        "             'Growth Rate':(q3_sales-q2_sales)/q2_sales*100}).sort_values(by=['Growth Rate'],ascending=False)"
      ]
    },
    {
      "cell_type": "markdown",
      "metadata": {
        "id": "_lHojGe1_uje"
      },
      "source": [
        "### No store has shown quarterly growth in Q3 2012."
      ]
    },
    {
      "cell_type": "code",
      "execution_count": 47,
      "metadata": {
        "id": "zWf7H2zT_uje"
      },
      "outputs": [],
      "source": []
    },
    {
      "cell_type": "markdown",
      "metadata": {
        "id": "BGBo2_uW_uje"
      },
      "source": [
        "### Question 4: Some holidays have a negative impact on sales. Find out holidays which have higher sales than the mean sales in non-holiday season for all stores together."
      ]
    },
    {
      "cell_type": "code",
      "execution_count": 48,
      "metadata": {
        "id": "0UcnNuvz_uje"
      },
      "outputs": [],
      "source": [
        "# Mean sales for holiday season for all stores\n",
        "# Holiday Events\n",
        "\n",
        "Super_Bowl=['12-2-10', '11-2-11', '10-2-12']\n",
        "Labour_Day=['10-9-10', '9-9-11', '7-9-12']\n",
        "Thanksgiving=['26-11-10', '25-11-11', '23-11-12']\n",
        "Christmas=['31-12-10', '30-12-11', '28-12-12']"
      ]
    },
    {
      "cell_type": "code",
      "execution_count": 49,
      "metadata": {
        "id": "vm8bxEdG_ujf",
        "colab": {
          "base_uri": "https://localhost:8080/"
        },
        "outputId": "2d4797b9-65e8-4f40-d3b5-7a6e601deb54"
      },
      "outputs": [
        {
          "output_type": "stream",
          "name": "stdout",
          "text": [
            "1079127.99 1042427.29 1471273.43 960833.11\n"
          ]
        }
      ],
      "source": [
        "Super_Bowl_sales=data.loc[data.Date.isin(Super_Bowl)]['Weekly_Sales'].mean().round(2)\n",
        "Labour_Day_sales=data.loc[data.Date.isin(Labour_Day)]['Weekly_Sales'].mean().round(2)\n",
        "Thanksgiving_sales=data.loc[data.Date.isin(Thanksgiving)]['Weekly_Sales'].mean().round(2)\n",
        "Christmas_sales=data.loc[data.Date.isin(Christmas)]['Weekly_Sales'].mean().round(2)\n",
        "\n",
        "print(Super_Bowl_sales,Labour_Day_sales,Thanksgiving_sales,Christmas_sales)"
      ]
    },
    {
      "cell_type": "code",
      "execution_count": 50,
      "metadata": {
        "colab": {
          "base_uri": "https://localhost:8080/"
        },
        "id": "mvfziSHg_ujf",
        "outputId": "6f9d285d-ba03-4196-bf50-1599ac1c1622"
      },
      "outputs": [
        {
          "output_type": "execute_result",
          "data": {
            "text/plain": [
              "Weekly_Sales    1.041256e+06\n",
              "dtype: float64"
            ]
          },
          "metadata": {},
          "execution_count": 50
        }
      ],
      "source": [
        "# Mean sales for non-holiday season for all stores\n",
        "mean_non_holiday_sales = data[data.Holiday_Flag == 0].agg({'Weekly_Sales': 'mean'})\n",
        "mean_non_holiday_sales"
      ]
    },
    {
      "cell_type": "code",
      "execution_count": 51,
      "metadata": {
        "colab": {
          "base_uri": "https://localhost:8080/",
          "height": 206
        },
        "id": "jI56EiK1_ujf",
        "outputId": "0e26aa33-e3f5-4a9c-ea7e-535b4de3d815"
      },
      "outputs": [
        {
          "output_type": "execute_result",
          "data": {
            "text/plain": [
              "                        Weekly_Sales\n",
              "Super_Bowl_sales        1.079128e+06\n",
              "Labour_Day_sales        1.042427e+06\n",
              "Thanksgiving_sales      1.471273e+06\n",
              "Christmas_sales         9.608331e+05\n",
              "mean_non_holiday_sales  1.041256e+06"
            ],
            "text/html": [
              "\n",
              "  <div id=\"df-c4434dab-a569-4a2c-ac3c-d85c02fef187\">\n",
              "    <div class=\"colab-df-container\">\n",
              "      <div>\n",
              "<style scoped>\n",
              "    .dataframe tbody tr th:only-of-type {\n",
              "        vertical-align: middle;\n",
              "    }\n",
              "\n",
              "    .dataframe tbody tr th {\n",
              "        vertical-align: top;\n",
              "    }\n",
              "\n",
              "    .dataframe thead th {\n",
              "        text-align: right;\n",
              "    }\n",
              "</style>\n",
              "<table border=\"1\" class=\"dataframe\">\n",
              "  <thead>\n",
              "    <tr style=\"text-align: right;\">\n",
              "      <th></th>\n",
              "      <th>Weekly_Sales</th>\n",
              "    </tr>\n",
              "  </thead>\n",
              "  <tbody>\n",
              "    <tr>\n",
              "      <th>Super_Bowl_sales</th>\n",
              "      <td>1.079128e+06</td>\n",
              "    </tr>\n",
              "    <tr>\n",
              "      <th>Labour_Day_sales</th>\n",
              "      <td>1.042427e+06</td>\n",
              "    </tr>\n",
              "    <tr>\n",
              "      <th>Thanksgiving_sales</th>\n",
              "      <td>1.471273e+06</td>\n",
              "    </tr>\n",
              "    <tr>\n",
              "      <th>Christmas_sales</th>\n",
              "      <td>9.608331e+05</td>\n",
              "    </tr>\n",
              "    <tr>\n",
              "      <th>mean_non_holiday_sales</th>\n",
              "      <td>1.041256e+06</td>\n",
              "    </tr>\n",
              "  </tbody>\n",
              "</table>\n",
              "</div>\n",
              "      <button class=\"colab-df-convert\" onclick=\"convertToInteractive('df-c4434dab-a569-4a2c-ac3c-d85c02fef187')\"\n",
              "              title=\"Convert this dataframe to an interactive table.\"\n",
              "              style=\"display:none;\">\n",
              "        \n",
              "  <svg xmlns=\"http://www.w3.org/2000/svg\" height=\"24px\"viewBox=\"0 0 24 24\"\n",
              "       width=\"24px\">\n",
              "    <path d=\"M0 0h24v24H0V0z\" fill=\"none\"/>\n",
              "    <path d=\"M18.56 5.44l.94 2.06.94-2.06 2.06-.94-2.06-.94-.94-2.06-.94 2.06-2.06.94zm-11 1L8.5 8.5l.94-2.06 2.06-.94-2.06-.94L8.5 2.5l-.94 2.06-2.06.94zm10 10l.94 2.06.94-2.06 2.06-.94-2.06-.94-.94-2.06-.94 2.06-2.06.94z\"/><path d=\"M17.41 7.96l-1.37-1.37c-.4-.4-.92-.59-1.43-.59-.52 0-1.04.2-1.43.59L10.3 9.45l-7.72 7.72c-.78.78-.78 2.05 0 2.83L4 21.41c.39.39.9.59 1.41.59.51 0 1.02-.2 1.41-.59l7.78-7.78 2.81-2.81c.8-.78.8-2.07 0-2.86zM5.41 20L4 18.59l7.72-7.72 1.47 1.35L5.41 20z\"/>\n",
              "  </svg>\n",
              "      </button>\n",
              "      \n",
              "  <style>\n",
              "    .colab-df-container {\n",
              "      display:flex;\n",
              "      flex-wrap:wrap;\n",
              "      gap: 12px;\n",
              "    }\n",
              "\n",
              "    .colab-df-convert {\n",
              "      background-color: #E8F0FE;\n",
              "      border: none;\n",
              "      border-radius: 50%;\n",
              "      cursor: pointer;\n",
              "      display: none;\n",
              "      fill: #1967D2;\n",
              "      height: 32px;\n",
              "      padding: 0 0 0 0;\n",
              "      width: 32px;\n",
              "    }\n",
              "\n",
              "    .colab-df-convert:hover {\n",
              "      background-color: #E2EBFA;\n",
              "      box-shadow: 0px 1px 2px rgba(60, 64, 67, 0.3), 0px 1px 3px 1px rgba(60, 64, 67, 0.15);\n",
              "      fill: #174EA6;\n",
              "    }\n",
              "\n",
              "    [theme=dark] .colab-df-convert {\n",
              "      background-color: #3B4455;\n",
              "      fill: #D2E3FC;\n",
              "    }\n",
              "\n",
              "    [theme=dark] .colab-df-convert:hover {\n",
              "      background-color: #434B5C;\n",
              "      box-shadow: 0px 1px 3px 1px rgba(0, 0, 0, 0.15);\n",
              "      filter: drop-shadow(0px 1px 2px rgba(0, 0, 0, 0.3));\n",
              "      fill: #FFFFFF;\n",
              "    }\n",
              "  </style>\n",
              "\n",
              "      <script>\n",
              "        const buttonEl =\n",
              "          document.querySelector('#df-c4434dab-a569-4a2c-ac3c-d85c02fef187 button.colab-df-convert');\n",
              "        buttonEl.style.display =\n",
              "          google.colab.kernel.accessAllowed ? 'block' : 'none';\n",
              "\n",
              "        async function convertToInteractive(key) {\n",
              "          const element = document.querySelector('#df-c4434dab-a569-4a2c-ac3c-d85c02fef187');\n",
              "          const dataTable =\n",
              "            await google.colab.kernel.invokeFunction('convertToInteractive',\n",
              "                                                     [key], {});\n",
              "          if (!dataTable) return;\n",
              "\n",
              "          const docLinkHtml = 'Like what you see? Visit the ' +\n",
              "            '<a target=\"_blank\" href=https://colab.research.google.com/notebooks/data_table.ipynb>data table notebook</a>'\n",
              "            + ' to learn more about interactive tables.';\n",
              "          element.innerHTML = '';\n",
              "          dataTable['output_type'] = 'display_data';\n",
              "          await google.colab.output.renderOutput(dataTable, element);\n",
              "          const docLink = document.createElement('div');\n",
              "          docLink.innerHTML = docLinkHtml;\n",
              "          element.appendChild(docLink);\n",
              "        }\n",
              "      </script>\n",
              "    </div>\n",
              "  </div>\n",
              "  "
            ]
          },
          "metadata": {},
          "execution_count": 51
        }
      ],
      "source": [
        "pd.DataFrame({'Super_Bowl_sales':Super_Bowl_sales,\n",
        "             'Labour_Day_sales':Labour_Day_sales,\n",
        "             'Thanksgiving_sales':Thanksgiving_sales,\n",
        "             'Christmas_sales':Christmas_sales,\n",
        "             'mean_non_holiday_sales':mean_non_holiday_sales}).T"
      ]
    },
    {
      "cell_type": "markdown",
      "metadata": {
        "id": "VjS-dpmd_ujf"
      },
      "source": [
        "### Thanksgiving has the highest sales than the non-holiday sales."
      ]
    },
    {
      "cell_type": "markdown",
      "metadata": {
        "id": "_yR7Ta8J_ujf"
      },
      "source": [
        "### Analysis 5: Provide a monthly and semester view of sales in units and give insights"
      ]
    },
    {
      "cell_type": "code",
      "execution_count": 51,
      "metadata": {
        "id": "36N2WfOX_ujf"
      },
      "outputs": [],
      "source": []
    },
    {
      "cell_type": "code",
      "execution_count": 52,
      "metadata": {
        "id": "1A1HMOjI_ujf"
      },
      "outputs": [],
      "source": [
        "data['Day'] = pd.DatetimeIndex(data['Date']).day\n",
        "data['Month'] = pd.DatetimeIndex(data['Date']).month\n",
        "data['Year'] = pd.DatetimeIndex(data['Date']).year"
      ]
    },
    {
      "cell_type": "code",
      "execution_count": 53,
      "metadata": {
        "colab": {
          "base_uri": "https://localhost:8080/",
          "height": 888
        },
        "id": "5VP11RUe_ujg",
        "outputId": "5c8a1e1c-2446-4940-9cbd-dfe2a55daf78"
      },
      "outputs": [
        {
          "output_type": "stream",
          "name": "stdout",
          "text": [
            "2010\n"
          ]
        },
        {
          "output_type": "display_data",
          "data": {
            "text/plain": [
              "<Figure size 432x288 with 1 Axes>"
            ],
            "image/png": "[encoded data removed]"
          },
          "metadata": {
            "needs_background": "light"
          }
        },
        {
          "output_type": "stream",
          "name": "stdout",
          "text": [
            "2011\n"
          ]
        },
        {
          "output_type": "display_data",
          "data": {
            "text/plain": [
              "<Figure size 432x288 with 1 Axes>"
            ],
            "image/png": "[encoded data removed]"
          },
          "metadata": {
            "needs_background": "light"
          }
        },
        {
          "output_type": "stream",
          "name": "stdout",
          "text": [
            "2012\n"
          ]
        },
        {
          "output_type": "display_data",
          "data": {
            "text/plain": [
              "<Figure size 432x288 with 1 Axes>"
            ],
            "image/png": "[encoded data removed]"
          },
          "metadata": {
            "needs_background": "light"
          }
        }
      ],
      "source": [
        "#Monthly view in each year\n",
        "for i in data['Year'].unique():\n",
        "    print(i)\n",
        "    sb.barplot(data=data, x=data[data.Year==i]['Month'], y=data[data.Year==i]['Weekly_Sales'])\n",
        "    plt.show()"
      ]
    },
    {
      "cell_type": "code",
      "execution_count": 54,
      "metadata": {
        "colab": {
          "base_uri": "https://localhost:8080/",
          "height": 323
        },
        "id": "s8tUqBxg_ujg",
        "outputId": "266387d3-7c4d-46f8-81dd-e68aa2e37b2d"
      },
      "outputs": [
        {
          "output_type": "execute_result",
          "data": {
            "text/plain": [
              "<Axes: xlabel='Year'>"
            ]
          },
          "metadata": {},
          "execution_count": 54
        },
        {
          "output_type": "display_data",
          "data": {
            "text/plain": [
              "<Figure size 432x288 with 1 Axes>"
            ],
            "image/png": "[encoded data removed]"
          },
          "metadata": {
            "needs_background": "light"
          }
        }
      ],
      "source": [
        "data.groupby('Year')['Weekly_Sales'].sum().plot(kind='bar',legend=False)"
      ]
    },
    {
      "cell_type": "code",
      "execution_count": 55,
      "metadata": {
        "id": "fxZDmYh-_ujg"
      },
      "outputs": [],
      "source": [
        "### Highest sales in 2011 and lowest sales in 2012"
      ]
    },
    {
      "cell_type": "code",
      "execution_count": 56,
      "metadata": {
        "id": "D5b-AsPM_ujg"
      },
      "outputs": [],
      "source": [
        "#Semester view of Sales\n",
        "Year_2010=data.loc[data[\"Year\"]==2010]\n",
        "Year_2011=data.loc[data[\"Year\"]==2011]\n",
        "Year_2012=data.loc[data[\"Year\"]==2012]\n",
        "\n",
        "semester_sales = []\n",
        "semester_sales.append(Year_2010.loc[Year_2010['Month']<7, ['Weekly_Sales']].sum())\n",
        "semester_sales.append(Year_2010.loc[Year_2010['Month']>6, ['Weekly_Sales']].sum())\n",
        "semester_sales.append(Year_2011.loc[Year_2011['Month']<7, ['Weekly_Sales']].sum())\n",
        "semester_sales.append(Year_2011.loc[Year_2011['Month']>6, ['Weekly_Sales']].sum())\n",
        "semester_sales.append(Year_2012.loc[Year_2012['Month']<7, ['Weekly_Sales']].sum())\n",
        "semester_sales.append(Year_2012.loc[Year_2012['Month']>6, ['Weekly_Sales']].sum())"
      ]
    },
    {
      "cell_type": "code",
      "execution_count": 57,
      "metadata": {
        "id": "rJ0CPIP0_ujg"
      },
      "outputs": [],
      "source": [
        "semester_names=[\"sem1_2010\",\"sem2_2010\",\"sem1_2011\",\"sem2_2011\",\"sem1_2012\",\"sem2_2012\"]"
      ]
    },
    {
      "cell_type": "code",
      "execution_count": 58,
      "metadata": {
        "colab": {
          "base_uri": "https://localhost:8080/",
          "height": 422
        },
        "id": "7A4ZJGqE_ujg",
        "outputId": "c26d666b-2089-4bab-f191-ec4a654d42b0"
      },
      "outputs": [
        {
          "output_type": "execute_result",
          "data": {
            "text/plain": [
              "Text(0.5, 1.0, 'Semester view of sales')"
            ]
          },
          "metadata": {},
          "execution_count": 58
        },
        {
          "output_type": "display_data",
          "data": {
            "text/plain": [
              "<Figure size 720x432 with 1 Axes>"
            ],
            "image/png": "[encoded data removed]"
          },
          "metadata": {
            "needs_background": "light"
          }
        }
      ],
      "source": [
        "plt.figure(figsize=(10,6))\n",
        "plt.plot(semester_names,semester_sales)\n",
        "plt.xlabel(\"Semesters\")\n",
        "plt.ylabel(\"Semester Sales\")\n",
        "plt.title(\"Semester view of sales\")"
      ]
    },
    {
      "cell_type": "markdown",
      "metadata": {
        "id": "ZYCGwN4I_ujg"
      },
      "source": [
        "### Prediction Models"
      ]
    },
    {
      "cell_type": "code",
      "execution_count": 59,
      "metadata": {
        "id": "NHpv3K6q_ujh"
      },
      "outputs": [],
      "source": [
        "# Separate Dependent and Independent variable\n",
        "X = data[['Store', 'Fuel_Price', 'CPI', 'Unemployment', 'Day', 'Month', 'Year']]\n",
        "y = data['Weekly_Sales']"
      ]
    },
    {
      "cell_type": "code",
      "execution_count": 60,
      "metadata": {
        "id": "JBEq0BLZ_ujh"
      },
      "outputs": [],
      "source": [
        "#Split the data into train and test\n",
        "from sklearn.model_selection import train_test_split\n",
        "X_train, X_test, y_train, y_test = train_test_split(X, y, test_size=0.3)"
      ]
    },
    {
      "cell_type": "code",
      "execution_count": 61,
      "metadata": {
        "id": "Fjd3Rsmp_ujh"
      },
      "outputs": [],
      "source": [
        "# Scaling "
      ]
    },
    {
      "cell_type": "code",
      "execution_count": 62,
      "metadata": {
        "id": "OlUcKLYZ_ujh"
      },
      "outputs": [],
      "source": [
        "from sklearn.preprocessing import StandardScaler\n",
        "sc = StandardScaler()\n",
        "X_train = sc.fit_transform(X_train)\n",
        "X_test = sc.transform(X_test)"
      ]
    },
    {
      "cell_type": "markdown",
      "metadata": {
        "id": "MEwEcf5A_ujh"
      },
      "source": [
        "### 1. Linear Regression"
      ]
    },
    {
      "cell_type": "code",
      "execution_count": 63,
      "metadata": {
        "id": "i0mBqQnd_ujh"
      },
      "outputs": [],
      "source": [
        "lr_model=LinearRegression()\n",
        "lr_model.fit(X_train,y_train)\n",
        "lr_model_pred=lr_model.predict(X_test)"
      ]
    },
    {
      "cell_type": "code",
      "execution_count": 92,
      "metadata": {
        "colab": {
          "base_uri": "https://localhost:8080/"
        },
        "id": "o62hy2cW_ujh",
        "outputId": "5c3aec06-66ab-41b2-ec3d-fd849f337679"
      },
      "outputs": [
        {
          "output_type": "stream",
          "name": "stdout",
          "text": [
            "Train Accuracy Score: 14.099999999999998 %\n",
            "Test Accuracy Score: 15.392 %\n",
            "Mean Absolute Error: 425148.518\n",
            "Mean Squared Error: 264035453840.075\n",
            "Root Mean Squared Error: 513843.803\n"
          ]
        }
      ],
      "source": [
        "print('Train Accuracy Score:', lr_model.score(X_train, y_train).round(3)*100, '%')\n",
        "print('Test Accuracy Score:', r2_score(y_test, lr_model_pred).round(5)*100, '%')\n",
        "\n",
        "print('Mean Absolute Error:', metrics.mean_absolute_error(y_test, lr_model_pred).round(3))\n",
        "print('Mean Squared Error:', metrics.mean_squared_error(y_test, lr_model_pred).round(3))\n",
        "print('Root Mean Squared Error:', np.sqrt(metrics.mean_squared_error(y_test, lr_model_pred)).round(3))"
      ]
    },
    {
      "cell_type": "markdown",
      "metadata": {
        "id": "2ihrijqB_uji"
      },
      "source": [
        "### 2. K Nearest Neighbors"
      ]
    },
    {
      "cell_type": "code",
      "execution_count": 65,
      "metadata": {
        "id": "h0SOj7Yt_uji"
      },
      "outputs": [],
      "source": [
        "from sklearn.neighbors import KNeighborsRegressor"
      ]
    },
    {
      "cell_type": "code",
      "execution_count": 66,
      "metadata": {
        "id": "AZESdMW7_uji"
      },
      "outputs": [],
      "source": [
        "knn=KNeighborsRegressor()"
      ]
    },
    {
      "cell_type": "code",
      "execution_count": 67,
      "metadata": {
        "id": "6Ppxi0WQ_uji"
      },
      "outputs": [],
      "source": [
        "knn.fit(X_train,y_train)\n",
        "y_pred_knn=knn.predict(X_test)\n",
        "knn_r2 = r2_score(y_test, y_pred_knn)\n",
        "mae = metrics.mean_absolute_error(y_test, y_pred_knn)\n",
        "mse = metrics.mean_squared_error(y_test, y_pred_knn)\n",
        "rmse = np.sqrt(metrics.mean_squared_error(y_test, y_pred_knn))"
      ]
    },
    {
      "cell_type": "code",
      "execution_count": 82,
      "metadata": {
        "colab": {
          "base_uri": "https://localhost:8080/"
        },
        "id": "Wt4Q4mgG_uji",
        "outputId": "fecc3a16-92ae-4880-b510-f589aa717b51"
      },
      "outputs": [
        {
          "output_type": "stream",
          "name": "stdout",
          "text": [
            "Accuracy : 39.0 %\n",
            "Mean Absolute Error: 69066.87943\n",
            "Mean Squared Error: 16695482443.77682\n",
            "Root Mean Squared Error: 129210.9997\n"
          ]
        }
      ],
      "source": [
        "print('Accuracy :', knn_r2.round(2)*100,'%')\n",
        "print('Mean Absolute Error:', mae.round(5))\n",
        "print('Mean Squared Error:', mse.round(5))\n",
        "print('Root Mean Squared Error:', rmse.round(5))"
      ]
    },
    {
      "cell_type": "markdown",
      "metadata": {
        "id": "8jUqEPeP_ujj"
      },
      "source": [
        "### 3. Decision Tree Regressor"
      ]
    },
    {
      "cell_type": "code",
      "execution_count": 69,
      "metadata": {
        "id": "MjYE3GeI_ujj"
      },
      "outputs": [],
      "source": [
        "from sklearn.tree import DecisionTreeRegressor\n",
        "dtr = DecisionTreeRegressor()\n",
        "dtr.fit(X_train,y_train)\n",
        "\n",
        "y_pred_dt = dtr.predict(X_test)\n",
        "\n",
        "r2_dtr = r2_score(y_test,y_pred_dt)\n",
        "mae = metrics.mean_absolute_error(y_test, y_pred_dt)\n",
        "mse = metrics.mean_squared_error(y_test, y_pred_dt)\n",
        "rmse = np.sqrt(metrics.mean_squared_error(y_test, y_pred_dt))"
      ]
    },
    {
      "cell_type": "code",
      "execution_count": 81,
      "metadata": {
        "colab": {
          "base_uri": "https://localhost:8080/"
        },
        "id": "WMFT1YNM_ujj",
        "outputId": "78cb0034-5b0c-4ddf-e7e6-01fb2a410c8f"
      },
      "outputs": [
        {
          "output_type": "stream",
          "name": "stdout",
          "text": [
            "Accuracy= 92.0 %\n",
            "Mean Absolute Error = 69066.87943\n",
            "Mean Squared Error= 16695482443.77682\n",
            "Root Mean Squared Errorr= 129210.9997\n"
          ]
        }
      ],
      "source": [
        "print('Accuracy=', r2_dtr.round(2)*100,'%')\n",
        "print('Mean Absolute Error =', mae.round(5))\n",
        "print('Mean Squared Error=', mse.round(5))\n",
        "print('Root Mean Squared Errorr=', rmse.round(5))"
      ]
    },
    {
      "cell_type": "markdown",
      "metadata": {
        "id": "nIxKedMD_ujj"
      },
      "source": [
        "### 4. Random Forest Regressor"
      ]
    },
    {
      "cell_type": "code",
      "execution_count": 71,
      "metadata": {
        "id": "HKw-0r2C_ujj"
      },
      "outputs": [],
      "source": [
        "from sklearn.ensemble import RandomForestRegressor"
      ]
    },
    {
      "cell_type": "code",
      "execution_count": 79,
      "metadata": {
        "colab": {
          "base_uri": "https://localhost:8080/"
        },
        "id": "DMw9QO9j_ujj",
        "outputId": "c8051cc8-1f7d-48d9-ec72-f62de0bc3620"
      },
      "outputs": [
        {
          "output_type": "stream",
          "name": "stdout",
          "text": [
            "Accuracy: 94.65 %\n",
            "Mean Absolute Error : 69066.87943\n",
            "Mean Squared Error: 16695482443.77682\n",
            "Root Mean Squared Error: 129210.9997\n"
          ]
        }
      ],
      "source": [
        "rf_model=RandomForestRegressor()\n",
        "rf_model.fit(X_train,y_train)\n",
        "y_pred_rf=rf_model.predict(X_test)\n",
        "\n",
        "r2_rf = r2_score(y_test,y_pred_rf)\n",
        "mae = metrics.mean_absolute_error(y_test, y_pred_rf)\n",
        "mse = metrics.mean_squared_error(y_test, y_pred_rf)\n",
        "rmse = np.sqrt(metrics.mean_squared_error(y_test, y_pred_rf))\n",
        "\n",
        "print('Accuracy:', r2_rf.round(5)*100,'%')\n",
        "print('Mean Absolute Error :', mae.round(5))\n",
        "print('Mean Squared Error:', mse.round(5))\n",
        "print('Root Mean Squared Error:', rmse.round(5))"
      ]
    },
    {
      "cell_type": "code",
      "source": [
        "# Random Forest Regressor  has better accuracy score than other models."
      ],
      "metadata": {
        "id": "N2DVRUUsDacR"
      },
      "execution_count": 72,
      "outputs": []
    }
  ],
  "metadata": {
    "kernelspec": {
      "display_name": "Python 3",
      "language": "python",
      "name": "python3"
    },
    "language_info": {
      "codemirror_mode": {
        "name": "ipython",
        "version": 3
      },
      "file_extension": ".py",
      "mimetype": "text/x-python",
      "name": "python",
      "nbconvert_exporter": "python",
      "pygments_lexer": "ipython3",
      "version": "3.8.5"
    },
    "colab": {
      "provenance": []
    }
  },
  "nbformat": 4,
  "nbformat_minor": 0
}